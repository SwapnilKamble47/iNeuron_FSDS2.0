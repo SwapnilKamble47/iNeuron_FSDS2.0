{
  "nbformat": 4,
  "nbformat_minor": 0,
  "metadata": {
    "colab": {
      "provenance": []
    },
    "kernelspec": {
      "name": "python3",
      "display_name": "Python 3"
    },
    "language_info": {
      "name": "python"
    }
  },
  "cells": [
    {
      "cell_type": "markdown",
      "source": [
        "# Assignment_6"
      ],
      "metadata": {
        "id": "bCrB7gnjfnta"
      }
    },
    {
      "cell_type": "markdown",
      "source": [
        "#### 1.What are Escape characters ? and how do you use them ?\n",
        "**Ans:** Escape characters represent characters in string values that would otherwise be difficult or impossible to type into code. we can use the backslash `character` to escape a single character or symbol  \n",
        "**example:** `\\t, \\n`\n"
      ],
      "metadata": {
        "id": "9c5w3oksfnv7"
      }
    },
    {
      "cell_type": "markdown",
      "source": [
        "#### 2.What do the escape characters n and t stand for ?\n",
        "**Ans:** `\\n` is a newline, `\\t` is a tab"
      ],
      "metadata": {
        "id": "bIW5n22KfuK-"
      }
    },
    {
      "cell_type": "markdown",
      "source": [
        "#### 3.What is the way to include backslash character in a string?\n",
        "**Ans:** The `\\\\` escape character will represent the backslash character in a string"
      ],
      "metadata": {
        "id": "hRopWEpqfuIG"
      }
    },
    {
      "cell_type": "markdown",
      "source": [
        "#### 4.The string \"Howl's Moving Castle\" is a correct value. Why isn't the single quote character in the word Howl's not escaped a problem ?\n",
        "**Ans:** The string `\"Howl's Moving Castle\"` escaped the problem because it is wrapped inside double quotes. if its wrapped inside single quotes then we have to use escape character `\\'` to show single quote in the final output  \n",
        "`'Howl\\'s Moving Castle'` **`->`** `'Howl's Moving Castle'`"
      ],
      "metadata": {
        "id": "OlHVlo2vf1Sq"
      }
    },
    {
      "cell_type": "markdown",
      "source": [
        "#### 5.How do you write a string of newlines if you don't want to use the n character?\n",
        "**Ans:**  Multiline string allow you to use newlines in string without the `\\n` escape character  "
      ],
      "metadata": {
        "id": "lT1cgLFsf4GK"
      }
    },
    {
      "cell_type": "code",
      "execution_count": 1,
      "metadata": {
        "colab": {
          "base_uri": "https://localhost:8080/"
        },
        "id": "RBrNNiqSfT9n",
        "outputId": "91635070-437a-4722-ea0c-6c4d951e1c88"
      },
      "outputs": [
        {
          "output_type": "stream",
          "name": "stdout",
          "text": [
            "iNeuron full stack\n",
            "Data Science Bootcamp 2.0\n"
          ]
        }
      ],
      "source": [
        "# Example:\n",
        "a = '''iNeuron full stack\n",
        "Data Science Bootcamp 2.0'''\n",
        "print(a)"
      ]
    },
    {
      "cell_type": "markdown",
      "source": [
        "#### 6.What are the values of the given expressions ?\n",
        "'Hello, world!'[1]  \n",
        "'Hello, world!'[0:5]  \n",
        "'Hello, world!'[:5]  \n",
        "'Hello, world!'[3:]  \n",
        "\n",
        "\n",
        "**Ans:** The values for the given expressions are:  \n",
        "'Hello, world!'[1] **`->`**  `'e'`  \n",
        "'Hello, world!'[0:5] **`->`**  `'Hello'`  \n",
        "'Hello, world!'[:5] **`->`**  `'Hello'`  \n",
        "'Hello, world!'[3:] **`->`**  `'lo, world!'`"
      ],
      "metadata": {
        "id": "2raeesoUgKeO"
      }
    },
    {
      "cell_type": "markdown",
      "source": [
        "#### 7.What are the values of the following expressions ?\n",
        "'Hello'.upper()  \n",
        "'Hello'.upper().isupper()  \n",
        "'Hello'.upper().lower()    \n",
        "\n",
        "**Ans:** The values for the given expressions are:  \n",
        "'Hello'.upper() **`->`** `'HELLO'`  \n",
        "'Hello'.upper().isupper() **`->`**  `True`    \n",
        "'Hello'.upper().lower() **`->`** `'hello'`  "
      ],
      "metadata": {
        "id": "ffJwyIxkgkGI"
      }
    },
    {
      "cell_type": "markdown",
      "source": [
        "#### 8.What are the values of the following expressions ?\n",
        "'Remember, remember, the fifith of July.'.split()  \n",
        "-'.join('There can only one'.split())\n",
        "\n",
        "**Ans:** The values for the given expressions are:  \n",
        "'Remember, remember, the fifith of July.'.split()  **`->`** `['Remember,', 'remember,', 'the', 'fifith', 'of', 'July.']`  \n",
        "'-'.join('There can only one'.split()) **`->`** `'There-can-only-one'` "
      ],
      "metadata": {
        "id": "FjXwbpcLgj8O"
      }
    },
    {
      "cell_type": "markdown",
      "source": [
        "#### 9.What are the methods for right-justifying, left-justifying and centering a string ?\n",
        "**Ans:** The `rjust()`,`ljust()`,`center()` string methods, respectively"
      ],
      "metadata": {
        "id": "jCdoAUtpgs81"
      }
    },
    {
      "cell_type": "markdown",
      "source": [
        "#### 10.What is the best way to remove whitespace characters from the start or end ?\n",
        "**Ans:** The `lstrip()` and `rstrip()` methods remove whitesapce characters from the left and right ends of a string respectively"
      ],
      "metadata": {
        "id": "brDD0q7ygyiu"
      }
    },
    {
      "cell_type": "code",
      "source": [],
      "metadata": {
        "id": "v_jZcGB0g1lC"
      },
      "execution_count": null,
      "outputs": []
    }
  ]
}