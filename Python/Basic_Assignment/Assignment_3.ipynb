{
  "nbformat": 4,
  "nbformat_minor": 0,
  "metadata": {
    "colab": {
      "provenance": []
    },
    "kernelspec": {
      "name": "python3",
      "display_name": "Python 3"
    },
    "language_info": {
      "name": "python"
    }
  },
  "cells": [
    {
      "cell_type": "markdown",
      "source": [
        "#Assignment 3"
      ],
      "metadata": {
        "id": "TKvw12wwq7pG"
      }
    },
    {
      "cell_type": "markdown",
      "source": [
        "#### 1. Why are functions advantageous to have in your programs?\n",
        "**Ans:** Functions reduce the need for duplicate code. This makes programs shorter, easier to read, and easier to update.\n",
        "     The main advantage of functions is code Reusability."
      ],
      "metadata": {
        "id": "vSyRjFASrYFI"
      }
    },
    {
      "cell_type": "markdown",
      "source": [
        "#### 2. When does the code in a function run: when it's specified or when it's called?\n",
        "**Ans:** The code in a function executes when the function is called, not when the function is specified."
      ],
      "metadata": {
        "id": "DgGvG_kkrYYU"
      }
    },
    {
      "cell_type": "markdown",
      "source": [
        "#### 3. What statement creates a function?\n",
        "**Ans:** The `def` statement defines a function  \n",
        "**Syntax of Function:**  \n",
        "` def function_name(parameters):\n",
        "    \"\"\"doc string\"\"\"          \n",
        "    -----function body-----\n",
        "    -----function body-----\n",
        "    return value\n",
        "`"
      ],
      "metadata": {
        "id": "nrmUqq9XrYbB"
      }
    },
    {
      "cell_type": "markdown",
      "source": [
        "#### 4. What is the difference between a function and a function call?\n",
        "**Ans:** A function is procedure to achieve a particular result. while function call is using this function to achive that task. Using a function to do a particular task any point in program is called as function call. "
      ],
      "metadata": {
        "id": "FrjKBN2rriTf"
      }
    },
    {
      "cell_type": "markdown",
      "source": [
        "#### 5. How many global scopes are there in a Python program? How many local scopes?\n",
        "**Ans:** There is one global scope, and a local scope is created whenever a function is called."
      ],
      "metadata": {
        "id": "NQ9A-P2criOu"
      }
    },
    {
      "cell_type": "markdown",
      "source": [
        "#### 6. What happens to variables in a local scope when the function call returns?\n",
        "**Ans:** When a function returns, the local scope is destroyed, and all the variables in it are forgotten."
      ],
      "metadata": {
        "id": "b8mgX9ngriLy"
      }
    },
    {
      "cell_type": "markdown",
      "source": [
        "#### 7. What is the concept of a return value? Is it possible to have a return value in an expression?\n",
        "**Ans**: A return value is the value that a function call evaluates to. Like any value, a return value can be used\n",
        "as part of an expression."
      ],
      "metadata": {
        "id": "c8eJ0_ZfriIS"
      }
    },
    {
      "cell_type": "markdown",
      "source": [
        "#### 8. If a function does not have a return statement, what is the return value of a call to that function?\n",
        "**Ans:** If there is no return statement for a function, its return value is `None`."
      ],
      "metadata": {
        "id": "2cvrcEE6riEm"
      }
    },
    {
      "cell_type": "markdown",
      "source": [
        "#### 9. How do you make a function variable refer to the global variable?\n",
        "**Ans:** A global statement will force a variable in a function to refer to the global variable.\n",
        "If you want to refer to a global variable in a function, you can use the `global` keyword to declare which variables are  global."
      ],
      "metadata": {
        "id": "SaR0uobBrqqT"
      }
    },
    {
      "cell_type": "markdown",
      "source": [
        "#### 10. What is the data type of None?\n",
        "**Ans:** The data type of None is `NoneType`."
      ],
      "metadata": {
        "id": "Ot_5JhITrqnn"
      }
    },
    {
      "cell_type": "markdown",
      "source": [
        "#### 11. What does the sentence import areallyourpetsnamederic do?\n",
        "**Ans:** That import statement imports a module named areallyourpetsnamederic."
      ],
      "metadata": {
        "id": "glBIUHVErqk9"
      }
    },
    {
      "cell_type": "markdown",
      "source": [
        "#### 12. If you had a bacon() feature in a spam module, what would you call it after importing spam?\n",
        "**Ans:** This function can be called with `spam.bacon()`."
      ],
      "metadata": {
        "id": "6BaCeLrIrqhV"
      }
    },
    {
      "cell_type": "markdown",
      "source": [
        "#### 13. What can you do to save a programme from crashing if it encounters an error?\n",
        "**Ans:** Place the line of code that might cause an error in a `try` clause and use except `block` to handle the error."
      ],
      "metadata": {
        "id": "BdwqAE94rqb1"
      }
    },
    {
      "cell_type": "markdown",
      "source": [
        "#### 14. What is the purpose of the try clause? What is the purpose of the except clause?\n",
        "ANS:The code that could potentially cause an error goes in the `try` clause. The code that executes if an error happens goes in the `except` clause."
      ],
      "metadata": {
        "id": "SDmVZXc7sBIH"
      }
    },
    {
      "cell_type": "code",
      "source": [],
      "metadata": {
        "id": "7U2AcVyCsEc_"
      },
      "execution_count": null,
      "outputs": []
    }
  ]
}