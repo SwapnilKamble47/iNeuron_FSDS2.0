{
  "nbformat": 4,
  "nbformat_minor": 0,
  "metadata": {
    "colab": {
      "provenance": []
    },
    "kernelspec": {
      "name": "python3",
      "display_name": "Python 3"
    },
    "language_info": {
      "name": "python"
    }
  },
  "cells": [
    {
      "cell_type": "markdown",
      "source": [
        "# Assignment 7"
      ],
      "metadata": {
        "id": "ciuPg7uKxyJ9"
      }
    },
    {
      "cell_type": "markdown",
      "source": [
        "#### 1. What is the name of the feature responsible for generating Regex objects?\n",
        "**Ans:** **`re.compile()`** is the feature responsible for  generation of Regex objects."
      ],
      "metadata": {
        "id": "d9R3GubLxyMd"
      }
    },
    {
      "cell_type": "markdown",
      "source": [],
      "metadata": {
        "id": "yM2aY6oFxyO7"
      }
    },
    {
      "cell_type": "code",
      "source": [
        "import re\n",
        "x = re.compile(\"some_random_pattern\")\n",
        "type(x)\n",
        "print(x)"
      ],
      "metadata": {
        "colab": {
          "base_uri": "https://localhost:8080/"
        },
        "id": "FBcpD8bfyAe0",
        "outputId": "bb9a42af-2c48-454b-d594-5c32d8ded55b"
      },
      "execution_count": null,
      "outputs": [
        {
          "output_type": "stream",
          "name": "stdout",
          "text": [
            "re.compile('some_random_pattern')\n"
          ]
        }
      ]
    },
    {
      "cell_type": "markdown",
      "source": [
        "#### 2. Why do raw strings often appear in Regex objects?\n",
        "**Ans:** Regular expressions use the backslash character `('\\')` to indicate special forms `(Metacharacters)` or to allow special characters `(speical sequences)` to be used  without invoking their special meaning. This collides with Python’s usage of the same character for the same purpose in string literals. Hence, Raw strings are used (e.g. r\"\\n\") so that backslashes do not have to be escaped."
      ],
      "metadata": {
        "id": "SEjXpBNtyS-S"
      }
    },
    {
      "cell_type": "markdown",
      "source": [
        "#### 3. What is the return value of the search() method?\n",
        "**Ans:** The return value of `re.search(pattern,string)` method is a match object if the pattern is observed in the string else it returns a None"
      ],
      "metadata": {
        "id": "ZkoHGVS3yS7k"
      }
    },
    {
      "cell_type": "code",
      "source": [
        "import re\n",
        "match = re.search('i','Ineuron Full Stack Data Science Program', flags=re.IGNORECASE)\n",
        "print('Output:',match)\n",
        "match = re.search('X','Ineuron Full Stack Data Science Program', flags=re.IGNORECASE)\n",
        "print('Output:',match)"
      ],
      "metadata": {
        "colab": {
          "base_uri": "https://localhost:8080/"
        },
        "id": "W1F7Vo45yBjx",
        "outputId": "6369f4fc-3134-4a2e-de2e-aefd77148231"
      },
      "execution_count": null,
      "outputs": [
        {
          "output_type": "stream",
          "name": "stdout",
          "text": [
            "Output: <re.Match object; span=(0, 1), match='I'>\n",
            "Output: None\n"
          ]
        }
      ]
    },
    {
      "cell_type": "markdown",
      "source": [
        "#### 4. From a Match item, how do you get the actual strings that match the pattern?\n",
        "**Ans:** For Matched items `group()` methods returns actual strings that match the pattern"
      ],
      "metadata": {
        "id": "XiNyIPp1ydv1"
      }
    },
    {
      "cell_type": "code",
      "source": [
        "import re\n",
        "match = re.search('ineuron','Ineuron Full Stack Data Science Program', flags=re.IGNORECASE)\n",
        "print('Output:',match.group())"
      ],
      "metadata": {
        "colab": {
          "base_uri": "https://localhost:8080/"
        },
        "id": "RwhmE_AUyZUb",
        "outputId": "589f8408-7c52-49fa-b5ac-0fa33c2f7fdf"
      },
      "execution_count": null,
      "outputs": [
        {
          "output_type": "stream",
          "name": "stdout",
          "text": [
            "Output: Ineuron\n"
          ]
        }
      ]
    },
    {
      "cell_type": "markdown",
      "source": [
        "#### 5. In the regex which created from the r'(\\d\\d\\d)-(\\d\\d\\d-\\d\\d\\d\\d)', what does group zero cover? Group 2? Group 1?\n",
        "**Ans:** In the Regex **`r'(\\d\\d\\d)-(\\d\\d\\d-\\d\\d\\d\\d)'`** the zero group covers the entire pattern match where as the first group cover **`(\\d\\d\\d)`** and the second group cover **`(\\d\\d\\d-\\d\\d\\d\\d)`**"
      ],
      "metadata": {
        "id": "acSTQRbAykuq"
      }
    },
    {
      "cell_type": "code",
      "source": [
        "# Example Program\n",
        "import re\n",
        "phoneNumRegex = re.compile(r'(\\d\\d\\d)-(\\d\\d\\d-\\d\\d\\d\\d)')\n",
        "mo = phoneNumRegex.search('My number is 415-555-4242.')\n",
        "print(mo.groups()) # Prints all groups in a tuple format\n",
        "print(mo.group()) # Always returns the fully matched string \n",
        "print(mo.group(1)) # Returns the first group\n",
        "print(mo.group(2)) # Returns the second group"
      ],
      "metadata": {
        "colab": {
          "base_uri": "https://localhost:8080/"
        },
        "id": "OSSi-LvBygSu",
        "outputId": "3d9ded44-230c-4b3e-dce2-cbb3205fa2fe"
      },
      "execution_count": null,
      "outputs": [
        {
          "output_type": "stream",
          "name": "stdout",
          "text": [
            "('415', '555-4242')\n",
            "415-555-4242\n",
            "415\n",
            "555-4242\n"
          ]
        }
      ]
    },
    {
      "cell_type": "markdown",
      "source": [
        "#### 6. In standard expression syntax, parentheses and intervals have distinct meanings. How can you tell a regex that you want it to fit real parentheses and periods?\n",
        "**Ans:** The **`\\.`** **`\\(`** and **`\\)`** escape characters in the raw string passed to re.compile() will match actual parenthesis characters."
      ],
      "metadata": {
        "id": "Je5F0Ql90uO7"
      }
    },
    {
      "cell_type": "code",
      "source": [
        "# Example Program\n",
        "import re\n",
        "phoneNumRegex = re.compile(r'(\\(\\d\\d\\d\\)) (\\d\\d\\d-\\d\\d\\d\\d)')\n",
        "mo = phoneNumRegex.search('My phone number is (415) 555-4242.')\n",
        "print(mo.group())"
      ],
      "metadata": {
        "colab": {
          "base_uri": "https://localhost:8080/"
        },
        "id": "RGaM11Bj0x1x",
        "outputId": "0e1c0142-822b-4a9f-e664-39e472079149"
      },
      "execution_count": null,
      "outputs": [
        {
          "output_type": "stream",
          "name": "stdout",
          "text": [
            "(415) 555-4242\n"
          ]
        }
      ]
    },
    {
      "cell_type": "markdown",
      "source": [
        "#### 7. The findall() method returns a string list or a list of string tuples. What causes it to return one of the two options?\n",
        "**Ans:** If the regex pattern has no groups, a list of strings matched is returned. if the regex pattern has groups, a list of tuple of strings is returned."
      ],
      "metadata": {
        "id": "KiKFyAJ60uLy"
      }
    },
    {
      "cell_type": "code",
      "source": [
        "# Example Program\n",
        "import re\n",
        "phoneNumRegex = re.compile(r'(\\(\\d\\d\\d\\)) (\\d\\d\\d-\\d\\d\\d\\d)')\n",
        "mo = phoneNumRegex.findall('My phone number is (415) 555-4242.')\n",
        "print(mo)\n",
        "\n",
        "# Example Program\n",
        "import re\n",
        "phoneNumRegex = re.compile(r'\\d{3}-\\d{3}-\\d{4}')\n",
        "mo = phoneNumRegex.findall('My number is 415-555-4242.')\n",
        "print(mo) # Prints all groups in a tuple format"
      ],
      "metadata": {
        "colab": {
          "base_uri": "https://localhost:8080/"
        },
        "id": "yuWeF5GH0xz9",
        "outputId": "b3cd85b0-bf3b-4f20-bc08-51d812dd3550"
      },
      "execution_count": null,
      "outputs": [
        {
          "output_type": "stream",
          "name": "stdout",
          "text": [
            "[('(415)', '555-4242')]\n",
            "['415-555-4242']\n"
          ]
        }
      ]
    },
    {
      "cell_type": "markdown",
      "source": [
        "#### 8. In standard expressions, what does the | character mean?\n",
        "**Ans:** In Standard Expressions `|` means `OR` operator."
      ],
      "metadata": {
        "id": "N0AHMKZX0uJP"
      }
    },
    {
      "cell_type": "markdown",
      "source": [
        "#### 9. In regular expressions, what does the `?` character stand for?\n",
        "**Ans:** In regular Expressions, `?` characters represents zero or one match of the preceeding group."
      ],
      "metadata": {
        "id": "tSXAKUFT0uG8"
      }
    },
    {
      "cell_type": "markdown",
      "source": [],
      "metadata": {
        "id": "S1Z9Tgur0uB8"
      }
    },
    {
      "cell_type": "code",
      "source": [],
      "metadata": {
        "id": "IIhJ_Mvw1NCc"
      },
      "execution_count": null,
      "outputs": []
    },
    {
      "cell_type": "code",
      "source": [
        "# Example Program\n",
        "import re\n",
        "match_1 = re.search(\"Bat(wo)?man\",\"Batman returns\")\n",
        "print(match_1)\n",
        "match_2 = re.search(\"Bat(wo)?man\",\"Batwoman returns\")\n",
        "print(match_2)"
      ],
      "metadata": {
        "id": "Wk4qOda01Eg8"
      },
      "execution_count": null,
      "outputs": []
    },
    {
      "cell_type": "markdown",
      "source": [
        "#### 10.In regular expressions, what is the difference between the + and * characters?\n",
        "**Ans:** In Regular Expressions, `*` Represents Zero ore more occurances of the preceeding group, whereas `+` represents one or more occurances of the preceeding group."
      ],
      "metadata": {
        "id": "hyRAvGIF0uFC"
      }
    },
    {
      "cell_type": "code",
      "source": [
        "import re\n",
        "match_1 = re.search(\"Bat(wo)*man\",\"Batman returns\")\n",
        "print(match_1)\n",
        "match_2 = re.search(\"Bat(wo)+man\",\"Batman returns\")\n",
        "print(match_2)"
      ],
      "metadata": {
        "id": "K8lexwLsynlD"
      },
      "execution_count": null,
      "outputs": []
    },
    {
      "cell_type": "markdown",
      "source": [
        "#### 11. What is the difference between {4} and {4,5} in regular expression?\n",
        "**Ans:** `{4}` means that its preceeding group should repeat 4 times. where as `{4,5}` means that its preceeding group should repeat mininum 4 times and maximum 5 times inclusively"
      ],
      "metadata": {
        "id": "SHVpNOUx0t_d"
      }
    },
    {
      "cell_type": "code",
      "source": [
        "import re\n",
        "haRegex = re.compile(r'(Ha){3}')\n",
        "mo1 = haRegex.search('HaHaHa')\n",
        "mo2 = haRegex.search('Ha')\n",
        "print(mo1.group())\n",
        "print(mo2)"
      ],
      "metadata": {
        "colab": {
          "base_uri": "https://localhost:8080/"
        },
        "id": "g_2dUJ_kia2V",
        "outputId": "169cc31c-6338-4a10-ca93-bd8b67b01d1e"
      },
      "execution_count": null,
      "outputs": [
        {
          "output_type": "stream",
          "name": "stdout",
          "text": [
            "HaHaHa\n",
            "None\n"
          ]
        }
      ]
    },
    {
      "cell_type": "markdown",
      "source": [
        "#### 12. What do you mean by the \\d, \\w, and \\s shorthand character classes signify in regular expressions?\n",
        "**Ans:** \\d, \\w and \\s are special sequences in regular expresssions in python:\n",
        "1. **`\\w`** – Matches a word character equivalent to [a-zA-Z0-9_]\n",
        "2. **`\\d`** – Matches digit character equivalent to [0-9]\n",
        "3. **`\\s`** – Matches whitespace character (space, tab, newline, etc.)"
      ],
      "metadata": {
        "id": "RKWc5U9mieIZ"
      }
    },
    {
      "cell_type": "markdown",
      "source": [
        "#### 13. What do means by \\D, \\W, and \\S shorthand character classes signify in regular expressions?\n",
        "**Ans:** \\D, \\W and \\S are special sequences in regular expresssions in python:\n",
        "1. **`\\W`** – Matches any non-alphanumeric character equivalent to [^a-zA-Z0-9_]\n",
        "2. **`\\D`** – Matches any non-digit character, this is equivalent to the set class [^0-9]\n",
        "3. **`\\S`** – Matches any non-whitespace character"
      ],
      "metadata": {
        "id": "pOxN8xH3ikX2"
      }
    },
    {
      "cell_type": "code",
      "source": [],
      "metadata": {
        "id": "JNR6dvTAidkM"
      },
      "execution_count": null,
      "outputs": []
    },
    {
      "cell_type": "markdown",
      "source": [
        "#### 14. What is the difference between `.*?` and `.*`?\n",
        "**Ans:** **`.*`** is a Greedy mode, which returns the longest string that meets the condition. Whereas **`.*?`** is a non greedy mode which returns the shortest string that meets the condition."
      ],
      "metadata": {
        "id": "iDNRucLliqUf"
      }
    },
    {
      "cell_type": "code",
      "source": [],
      "metadata": {
        "id": "yTmmWygOirKz"
      },
      "execution_count": null,
      "outputs": []
    },
    {
      "cell_type": "markdown",
      "source": [
        "#### 15. What is the syntax for matching both numbers and lowercase letters with a character class?\n",
        "**Ans:** The Synatax is Either **`[a-z0-9]`** or **`[0-9a-z]`**"
      ],
      "metadata": {
        "id": "A7GrdmumiuGi"
      }
    },
    {
      "cell_type": "code",
      "source": [],
      "metadata": {
        "id": "NfOHeAQ4iuvY"
      },
      "execution_count": null,
      "outputs": []
    },
    {
      "cell_type": "markdown",
      "source": [
        "#### 15. What is the syntax for matching both numbers and lowercase letters with a character class?\n",
        "**Ans:** The Synatax is Either **`[a-z0-9]`** or **`[0-9a-z]`**"
      ],
      "metadata": {
        "id": "5pu6XDXfiwTD"
      }
    },
    {
      "cell_type": "code",
      "source": [],
      "metadata": {
        "id": "eRTMTDXlizPV"
      },
      "execution_count": null,
      "outputs": []
    },
    {
      "cell_type": "markdown",
      "source": [
        "#### 17. What does the . character normally match? What does it match if re.DOTALL is passed as 2nd argument in re.compile()?\n",
        "**Ans:** \n",
        "Dot **`.`** character matches everything in input except newline character **`.`**. By passing **`re.DOTALL`** as a flag to **`re.compile()`**, you can make the dot character match all characters, including the newline character."
      ],
      "metadata": {
        "id": "nlQuXVEAiz2J"
      }
    },
    {
      "cell_type": "code",
      "source": [],
      "metadata": {
        "id": "UDG7sGPUi2x-"
      },
      "execution_count": null,
      "outputs": []
    },
    {
      "cell_type": "markdown",
      "source": [
        "#### 18. If numReg = re.compile(r'\\d+'), what will numRegex.sub('X', '11 drummers, 10 pipers, five rings, 4 hen') return?\n",
        "**Ans:** The Ouput will be **`'X drummers, X pipers, five rings, X hen'`**"
      ],
      "metadata": {
        "id": "bhpkE6yFi3h6"
      }
    },
    {
      "cell_type": "code",
      "source": [
        "import re\n",
        "numReg = re.compile(r'\\d+')\n",
        "numReg.sub('X', '11 drummers, 10 pipers, five rings, 4 hen')"
      ],
      "metadata": {
        "colab": {
          "base_uri": "https://localhost:8080/",
          "height": 35
        },
        "id": "nAsgsKJfi8Jk",
        "outputId": "4cf38362-8923-423b-e9be-80dc18fff9c2"
      },
      "execution_count": null,
      "outputs": [
        {
          "output_type": "execute_result",
          "data": {
            "text/plain": [
              "'X drummers, X pipers, five rings, X hen'"
            ],
            "application/vnd.google.colaboratory.intrinsic+json": {
              "type": "string"
            }
          },
          "metadata": {},
          "execution_count": 2
        }
      ]
    },
    {
      "cell_type": "markdown",
      "source": [
        "#### 19. What does passing re.VERBOSE as the 2nd argument to re.compile() allow to do?\n",
        "**Ans:** **`re.VERBOSE`** will allow to add whitespace and comments to string passed to **`re.compile()`**."
      ],
      "metadata": {
        "id": "e6lr_WTOjDdX"
      }
    },
    {
      "cell_type": "code",
      "source": [
        "# Without Using VERBOSE\n",
        "regex_email = re.compile(r'^([a-z0-9_\\.-]+)@([0-9a-z\\.-]+)\\.([a-z\\.]{2, 6})$', re.IGNORECASE)\n",
        " \n",
        "# Using VERBOSE\n",
        "regex_email = re.compile(r\"\"\"\n",
        "                            ^([a-z0-9_\\.-]+)              # local Part like username\n",
        "                            @                             # single @ sign \n",
        "                            ([0-9a-z\\.-]+)                # Domain name like google\n",
        "                            \\.                            # single Dot .\n",
        "                            ([a-z]{2,6})$                 # Top level Domain  like com/in/org\n",
        "                         \"\"\",re.VERBOSE | re.IGNORECASE)   "
      ],
      "metadata": {
        "id": "X5i51KHui-z6"
      },
      "execution_count": null,
      "outputs": []
    },
    {
      "cell_type": "markdown",
      "source": [
        "#### 20. How would you write a regex that match a number with comma for every three digits? It must match the given following:\n",
        "`'42','1,234', '6,368,745'`but not the following: `'12,34,567'` (which has only two digits between the commas) `'1234'` (which lacks commas)"
      ],
      "metadata": {
        "id": "-uLI5nPyjKcf"
      }
    },
    {
      "cell_type": "code",
      "source": [
        "import re\n",
        "pattern = r'^\\d{1,3}(,\\d{3})*$'\n",
        "pagex = re.compile(pattern)\n",
        "for ele in ['42','1,234', '6,368,745','12,34,567','1234']:\n",
        "    print('Output:',ele, '->', pagex.search(ele))"
      ],
      "metadata": {
        "colab": {
          "base_uri": "https://localhost:8080/"
        },
        "id": "jx-o-kBDjKIT",
        "outputId": "2eb12c65-c84a-4138-fa32-625bb7dacfc1"
      },
      "execution_count": null,
      "outputs": [
        {
          "output_type": "stream",
          "name": "stdout",
          "text": [
            "Output: 42 -> <re.Match object; span=(0, 2), match='42'>\n",
            "Output: 1,234 -> <re.Match object; span=(0, 5), match='1,234'>\n",
            "Output: 6,368,745 -> <re.Match object; span=(0, 9), match='6,368,745'>\n",
            "Output: 12,34,567 -> None\n",
            "Output: 1234 -> None\n"
          ]
        }
      ]
    },
    {
      "cell_type": "code",
      "source": [],
      "metadata": {
        "id": "lDd4LelvjNkY"
      },
      "execution_count": null,
      "outputs": []
    },
    {
      "cell_type": "markdown",
      "source": [
        "#### 21. How would you write a regex that matches the full name of someone whose last name is Watanabe? You can assume that the first name that comes before it will always be one word that begins with a capital letter. The regex must match the following:\n",
        "`'Haruto Watanabe'`  \n",
        "`'Alice Watanabe'`  \n",
        "`'RoboCop Watanabe'`  \n",
        "\n",
        "but not the following:\n",
        "\n",
        "`'haruto Watanabe'` (where the first name is not capitalized)  \n",
        "`'Mr. Watanabe'` (where the preceding word has a nonletter character)  \n",
        "`'Watanabe'` (which has no first name)  \n",
        "`'Haruto watanabe'` (where Watanabe is not capitalized)  \n",
        "\n",
        "**Ans:** **`pattern = r'[A-Z]{1}[a-z]*\\sWatanabe'`**"
      ],
      "metadata": {
        "id": "MtMYdXWujQ60"
      }
    },
    {
      "cell_type": "code",
      "source": [
        "import re\n",
        "pattern = r'[A-Z]{1}[a-z]*\\sWatanabe'\n",
        "namex = re.compile(pattern)\n",
        "for name in ['Haruto Watanabe','Alice Watanabe','RoboCop Watanabe','haruto Watanabe','Mr. Watanabe','Watanabe','Haruto watanabe']:\n",
        "    print('Output: ',name,'->',namex.search(name))"
      ],
      "metadata": {
        "id": "wUYrwRmcjRnd"
      },
      "execution_count": null,
      "outputs": []
    },
    {
      "cell_type": "markdown",
      "source": [
        "#### 22. How would you write a regex that matches a sentence where the first word is either Alice, Bob,or Carol; the second word is either eats, pets, or throws; the third word is apples, cats, or baseballs; and the sentence ends with a period? This regex should be case-insensitive. It must match the following:\n",
        "`'Alice eats apples.'`  \n",
        "`'Bob pets cats.'`  \n",
        "`'Carol throws baseballs.'`  \n",
        "`'Alice throws Apples.'`  \n",
        "`'BOB EATS CATS.'`  \n",
        "\n",
        "but not the following:  \n",
        "\n",
        "`'RoboCop eats apples.'`  \n",
        "`'ALICE THROWS FOOTBALLS.'`   \n",
        "`'Carol eats 7 cats.'`  \n",
        "\n",
        "**Ans:** pattern = **`r'(Alice|Bob|Carol)\\s(eats|pets|throws)\\s(apples|cats|baseballs)\\.'`**"
      ],
      "metadata": {
        "id": "SONUg0LvjYP_"
      }
    },
    {
      "cell_type": "code",
      "source": [
        "import re\n",
        "pattern = r'(Alice|Bob|Carol)\\s(eats|pets|throws)\\s(apples|cats|baseballs)\\.'\n",
        "casex = re.compile(pattern,re.IGNORECASE)\n",
        "for ele in ['Alice eats apples.','Bob pets cats.','Carol throws baseballs.','Alice throws Apples.','BOB EATS CATS.','RoboCop eats apples.'\n",
        ",'ALICE THROWS FOOTBALLS.','Carol eats 7 cats.']:\n",
        "    print('Output: ',ele,'->',casex.search(ele))"
      ],
      "metadata": {
        "colab": {
          "base_uri": "https://localhost:8080/"
        },
        "id": "Acpdmt8MjZE5",
        "outputId": "a1add3ce-720a-4f94-8151-8f446a5cf5ff"
      },
      "execution_count": null,
      "outputs": [
        {
          "output_type": "stream",
          "name": "stdout",
          "text": [
            "Output:  Alice eats apples. -> <re.Match object; span=(0, 18), match='Alice eats apples.'>\n",
            "Output:  Bob pets cats. -> <re.Match object; span=(0, 14), match='Bob pets cats.'>\n",
            "Output:  Carol throws baseballs. -> <re.Match object; span=(0, 23), match='Carol throws baseballs.'>\n",
            "Output:  Alice throws Apples. -> <re.Match object; span=(0, 20), match='Alice throws Apples.'>\n",
            "Output:  BOB EATS CATS. -> <re.Match object; span=(0, 14), match='BOB EATS CATS.'>\n",
            "Output:  RoboCop eats apples. -> None\n",
            "Output:  ALICE THROWS FOOTBALLS. -> None\n",
            "Output:  Carol eats 7 cats. -> None\n"
          ]
        }
      ]
    },
    {
      "cell_type": "code",
      "source": [],
      "metadata": {
        "id": "sionRHrmjch4"
      },
      "execution_count": null,
      "outputs": []
    }
  ]
}