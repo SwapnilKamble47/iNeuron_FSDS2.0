{
  "nbformat": 4,
  "nbformat_minor": 0,
  "metadata": {
    "colab": {
      "provenance": []
    },
    "kernelspec": {
      "name": "python3",
      "display_name": "Python 3"
    },
    "language_info": {
      "name": "python"
    }
  },
  "cells": [
    {
      "cell_type": "markdown",
      "source": [
        "# Assignment 4 "
      ],
      "metadata": {
        "id": "sToJJ1X2tFeD"
      }
    },
    {
      "cell_type": "markdown",
      "source": [
        "#### 1.What exactly is `[ ]`?\n",
        "**Ans**: The empty list represented by `[]` is a list that contains no items. This is similar to `''` which represents an empty string"
      ],
      "metadata": {
        "id": "Q4pJo2PLtLMb"
      }
    },
    {
      "cell_type": "markdown",
      "source": [
        "#### 2.In a list of values stored in a variable called spam, how would you assign the value 'hello' as the third value? (Assume [2, 4, 6, 8, 10] are in spam.) \n",
        "**Ans:** `spam[2]='hello'` (Note: Lists follows zero based indexing)"
      ],
      "metadata": {
        "id": "zG8UJz4itLJj"
      }
    },
    {
      "cell_type": "code",
      "source": [
        "# Example\n",
        "spam=[2,4,6,8,10]\n",
        "print(spam)\n",
        "spam[2]='hello' #List uses zero based indexing\n",
        "print(spam)"
      ],
      "metadata": {
        "colab": {
          "base_uri": "https://localhost:8080/"
        },
        "id": "pdoCaq4Ltefj",
        "outputId": "37302b28-52e0-4ac4-e7e5-87cbaddf97dd"
      },
      "execution_count": 1,
      "outputs": [
        {
          "output_type": "stream",
          "name": "stdout",
          "text": [
            "[2, 4, 6, 8, 10]\n",
            "[2, 4, 'hello', 8, 10]\n"
          ]
        }
      ]
    },
    {
      "cell_type": "markdown",
      "source": [
        "# Let's pretend the spam includes the list ['a', 'b', 'c', 'd'] for the next three queries."
      ],
      "metadata": {
        "id": "jBk4TSSiuM1r"
      }
    },
    {
      "cell_type": "markdown",
      "source": [
        "#### 3. What is the value of spam[int(int('3' * 2) / 11)]?"
      ],
      "metadata": {
        "id": "y1DWLZLMtLGw"
      }
    },
    {
      "cell_type": "code",
      "source": [
        "spam=['a','b','c','d']\n",
        "print(\"spam[int(int('3'*2)//11)] ->\",spam[int(int('3'*2)//11)])"
      ],
      "metadata": {
        "colab": {
          "base_uri": "https://localhost:8080/"
        },
        "id": "20qn_WcktHXp",
        "outputId": "7d276e21-b707-4fe7-89bd-fc6906427769"
      },
      "execution_count": 2,
      "outputs": [
        {
          "output_type": "stream",
          "name": "stdout",
          "text": [
            "spam[int(int('3'*2)//11)] -> d\n"
          ]
        }
      ]
    },
    {
      "cell_type": "markdown",
      "source": [
        "#### 4. What is the value of spam[-1]?\n",
        "**Ans:** `'d'` (Lists support Negative indexing, Hence `spam[-1]` returs `'d'`)"
      ],
      "metadata": {
        "id": "DeVhi2sDuflh"
      }
    },
    {
      "cell_type": "code",
      "source": [
        "spam=['a','b','c','d']\n",
        "print('spam[-1] -> ',spam[-1])"
      ],
      "metadata": {
        "colab": {
          "base_uri": "https://localhost:8080/"
        },
        "id": "uG5KoMgxuj7y",
        "outputId": "2b13dac7-697a-4f08-f248-024e8232d12d"
      },
      "execution_count": 5,
      "outputs": [
        {
          "output_type": "stream",
          "name": "stdout",
          "text": [
            "spam[-1] ->  d\n"
          ]
        }
      ]
    },
    {
      "cell_type": "markdown",
      "source": [
        "#### 5. What is the value of spam[:2]?\n",
        "**Ans:** `spam[:2]` returns all elements in the list spam from 0 to 2 excluding 2"
      ],
      "metadata": {
        "id": "K_jFpqJlu3m6"
      }
    },
    {
      "cell_type": "code",
      "source": [
        "print(spam)\n",
        "print(spam[:2])"
      ],
      "metadata": {
        "colab": {
          "base_uri": "https://localhost:8080/"
        },
        "id": "p6gNxPzQu52o",
        "outputId": "18b13dba-e79c-4386-8841-89c598cd179d"
      },
      "execution_count": 6,
      "outputs": [
        {
          "output_type": "stream",
          "name": "stdout",
          "text": [
            "['a', 'b', 'c', 'd']\n",
            "['a', 'b']\n"
          ]
        }
      ]
    },
    {
      "cell_type": "markdown",
      "source": [
        "# Let's pretend bacon has the list [3.14, 'cat,' 11, 'cat,' True] for the next three questions."
      ],
      "metadata": {
        "id": "IrYxw0veu3jL"
      }
    },
    {
      "cell_type": "markdown",
      "source": [
        "#### 6. What is the value of bacon.index('cat')?\n",
        "**Ans:** The value of `bacon.index('cat')` is `1` (Note: index method returns the index of first occuerence of `'cat'`)"
      ],
      "metadata": {
        "id": "MYCiCVBnu3O3"
      }
    },
    {
      "cell_type": "code",
      "source": [
        "bacon=[3.14,'cat',11,'cat',True]\n",
        "print(\"bacon.index('cat') ->\",bacon.index('cat'))"
      ],
      "metadata": {
        "colab": {
          "base_uri": "https://localhost:8080/"
        },
        "id": "E7RgVMu_uthG",
        "outputId": "302f1da4-7c1b-4d69-8108-c7d8a4d45465"
      },
      "execution_count": 7,
      "outputs": [
        {
          "output_type": "stream",
          "name": "stdout",
          "text": [
            "bacon.index('cat') -> 1\n"
          ]
        }
      ]
    },
    {
      "cell_type": "markdown",
      "source": [
        "#### 7. How does bacon.append(99) change the look of the list value in bacon?\n",
        "**Ans:** The `append` method adds new elements to the end of the list"
      ],
      "metadata": {
        "id": "6nARmk29vXvG"
      }
    },
    {
      "cell_type": "code",
      "source": [
        "# Example\n",
        "print(bacon)\n",
        "bacon.append(99) # appends 99 to the end of the list\n",
        "print(bacon)"
      ],
      "metadata": {
        "colab": {
          "base_uri": "https://localhost:8080/"
        },
        "id": "r1Be55Z_vWmv",
        "outputId": "17b7dd95-647b-427d-a347-ef79c6ced134"
      },
      "execution_count": 8,
      "outputs": [
        {
          "output_type": "stream",
          "name": "stdout",
          "text": [
            "[3.14, 'cat', 11, 'cat', True]\n",
            "[3.14, 'cat', 11, 'cat', True, 99]\n"
          ]
        }
      ]
    },
    {
      "cell_type": "markdown",
      "source": [
        "#### 8. How does bacon.remove('cat') change the look of the list in bacon?\n",
        "**Ans:** The `remove` method removes the first occurence of the element in the list"
      ],
      "metadata": {
        "id": "FYzUzLVEvXsO"
      }
    },
    {
      "cell_type": "code",
      "source": [
        "print(bacon)\n",
        "bacon.remove('cat')\n",
        "print(bacon)"
      ],
      "metadata": {
        "colab": {
          "base_uri": "https://localhost:8080/"
        },
        "id": "Y2CZ3hptvq0c",
        "outputId": "5f45d0f3-fb10-473f-89e6-c6cfce2e3f6e"
      },
      "execution_count": 9,
      "outputs": [
        {
          "output_type": "stream",
          "name": "stdout",
          "text": [
            "[3.14, 'cat', 11, 'cat', True, 99]\n",
            "[3.14, 11, 'cat', True, 99]\n"
          ]
        }
      ]
    },
    {
      "cell_type": "markdown",
      "source": [
        "#### 9.what are the list concatenation and list replication operations?\n",
        "**Ans:** The operator for list concatenation is `+`, while the operator for replication is `*`. (This is the same as for strings.)"
      ],
      "metadata": {
        "id": "EbtD8JNBvXaV"
      }
    },
    {
      "cell_type": "code",
      "source": [
        "# Example\n",
        "list_1 = ['ML','DL','AI','CV','NLP']\n",
        "list_2 = ['RNN','CNN','SVN']\n",
        "print(list_1 + list_2) # List Concatenation\n",
        "print(list_2*2) # List Replication"
      ],
      "metadata": {
        "colab": {
          "base_uri": "https://localhost:8080/"
        },
        "id": "8vLNJCu5vrua",
        "outputId": "34d482db-5908-4fd6-8fad-c75966009f3e"
      },
      "execution_count": 10,
      "outputs": [
        {
          "output_type": "stream",
          "name": "stdout",
          "text": [
            "['ML', 'DL', 'AI', 'CV', 'NLP', 'RNN', 'CNN', 'SVN']\n",
            "['RNN', 'CNN', 'SVN', 'RNN', 'CNN', 'SVN']\n"
          ]
        }
      ]
    },
    {
      "cell_type": "markdown",
      "source": [
        "#### 10.what is the difference between the list method append() and insert()?\n",
        "**Ans:** While append() will add values only to the end of a list, insert() can add them anywhere in the list."
      ],
      "metadata": {
        "id": "dpiSQVspwDun"
      }
    },
    {
      "cell_type": "code",
      "source": [
        "#Examples\n",
        "list = [1,2,3,4,5]\n",
        "list.append(6)\n",
        "print(list)\n",
        "list.insert(2,'Demo')\n",
        "print(list)"
      ],
      "metadata": {
        "colab": {
          "base_uri": "https://localhost:8080/"
        },
        "id": "GPTSVjbcwDkk",
        "outputId": "c9fa96fe-2535-4fad-eab6-a265a9d9e915"
      },
      "execution_count": 11,
      "outputs": [
        {
          "output_type": "stream",
          "name": "stdout",
          "text": [
            "[1, 2, 3, 4, 5, 6]\n",
            "[1, 2, 'Demo', 3, 4, 5, 6]\n"
          ]
        }
      ]
    },
    {
      "cell_type": "markdown",
      "source": [
        "#### 11. What are the two methods for removing items from a list?\n",
        "**Ans:** The `del` statement and the `remove()` method are two ways to remove values from a list"
      ],
      "metadata": {
        "id": "BS1RYuKCwDYM"
      }
    },
    {
      "cell_type": "markdown",
      "source": [
        "#### 12. Describe how list values and string values are identical.\n",
        "**Ans:** Both lists and strings can be passed to `len()` function, have indexes and slices, be used in `for` loops, be concatenated or replicated, and be used with the `in` and `not in` operators."
      ],
      "metadata": {
        "id": "QzxSeMpKwC88"
      }
    },
    {
      "cell_type": "markdown",
      "source": [
        "#### 13. What's the difference between tuples and lists?\n",
        "**Ans:** Lists are `Mutable`, `Indexable` and `Slicable`. they can have values added, removed, or changed. Tuples are `Immutable` but `Indexable` and `Slicable`. the tuple values cannot be changed at all. Also, tuples are represented using parentheses, `()`, while lists use the square brackets, `[]`."
      ],
      "metadata": {
        "id": "qO79rbpCwpGG"
      }
    },
    {
      "cell_type": "markdown",
      "source": [
        "#### 14. How do you type a tuple value that only contains the integer 42?\n",
        "**Ans:**(42,) (The trailing comma is mandatory. otherwise its considered as a int by python Interpreter)"
      ],
      "metadata": {
        "id": "nHPoZGk-wraC"
      }
    },
    {
      "cell_type": "code",
      "source": [
        "tup1=(42)\n",
        "tup2=(42,)\n",
        "print(type(tup1))\n",
        "print(type(tup2))"
      ],
      "metadata": {
        "colab": {
          "base_uri": "https://localhost:8080/"
        },
        "id": "7y7DNJdWwyNm",
        "outputId": "f1ec8b57-92e0-4f44-9a9c-e48cb4052dca"
      },
      "execution_count": 12,
      "outputs": [
        {
          "output_type": "stream",
          "name": "stdout",
          "text": [
            "<class 'int'>\n",
            "<class 'tuple'>\n"
          ]
        }
      ]
    },
    {
      "cell_type": "markdown",
      "source": [
        "#### 15. How do you get a list value's tuple form? How do you get a tuple value's list form?\n",
        "**Ans:** The tuple() and list() functions, respectively are used to convert a list to tuple and vice versa\n",
        "\n"
      ],
      "metadata": {
        "id": "Y-UXIlHtwrXU"
      }
    },
    {
      "cell_type": "markdown",
      "source": [
        "#### 16. Variables that &quot;contain&quot; list values are not necessarily lists themselves. Instead, what do they contain?\n",
        "**Ans**: They contain references to list values."
      ],
      "metadata": {
        "id": "8kY1aUS7wrOq"
      }
    },
    {
      "cell_type": "markdown",
      "source": [
        "#### 17. How do you distinguish between copy.copy() and copy.deepcopy()?\n",
        "**Ans:** The `copy.copy()` function will do a shallow copy of a list, while the `copy.deepcopy()` function will do a deep copy of a list. That is, only `copy.deepcopy()` will duplicate any lists inside the list."
      ],
      "metadata": {
        "id": "9CwFhaRvxFKF"
      }
    }
  ]
}