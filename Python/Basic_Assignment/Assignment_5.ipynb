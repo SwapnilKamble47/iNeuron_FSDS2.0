{
  "nbformat": 4,
  "nbformat_minor": 0,
  "metadata": {
    "colab": {
      "provenance": []
    },
    "kernelspec": {
      "name": "python3",
      "display_name": "Python 3"
    },
    "language_info": {
      "name": "python"
    }
  },
  "cells": [
    {
      "cell_type": "markdown",
      "source": [
        "# Assignment 5"
      ],
      "metadata": {
        "id": "Y95wGW9JdrJL"
      }
    },
    {
      "cell_type": "markdown",
      "source": [
        "#### 1.What does an empty dictionary's code look like?\n",
        "**Ans:** An empty dictionary is often represented by two empty curly brackets  \n",
        "`d = {}` or `d = dict()`"
      ],
      "metadata": {
        "id": "nL7Y5rVbdyEB"
      }
    },
    {
      "cell_type": "markdown",
      "source": [
        "#### 2.what is the value of dictionary value with key 'foo' and the value 42 ?\n",
        "**Ans:** `{'foo':42}`"
      ],
      "metadata": {
        "id": "RbT5Y2-_d0MJ"
      }
    },
    {
      "cell_type": "markdown",
      "source": [
        "#### 3.What is the most significant distinction between a dictionary and a list?\n",
        "**Ans:** Dictionaries are represented by `{}` where as listed are represented by `[]`  \n",
        " The Items stored in a dictionary are Unordered , while the items in a list are ordered\n"
      ],
      "metadata": {
        "id": "v3JuZvIodz_Q"
      }
    },
    {
      "cell_type": "markdown",
      "source": [
        "#### 4.What happens if you try to access spam ['foo'] if spam is {'bar':100} ?\n",
        "**Ans:** we will get a keyError `KeyError: 'foo'`"
      ],
      "metadata": {
        "id": "45sPRhrDd7Q0"
      }
    },
    {
      "cell_type": "markdown",
      "source": [
        "#### 5.if a dictionary is stored in spam,what is the difference between the expressions 'cat' in spam and 'cat' in spam.keys() ?\n",
        "**Ans:** There is no difference . The operator checks whether a value exits as a key in the dictionary or not"
      ],
      "metadata": {
        "id": "a9FGPDZfd7Ot"
      }
    },
    {
      "cell_type": "markdown",
      "source": [
        "#### 6.if a dictionary is stored in spam,what is the difference between the expressions 'cat' in spam and 'cat' in spam.values() ?\n",
        "**Ans:**'cat' in spam checks whether there is a 'cat' key in the dictionary, while 'cat' in spam.values() checks whether there is a value 'cat' for one of the keys in spam."
      ],
      "metadata": {
        "id": "H4wDSgBsd7M0"
      }
    },
    {
      "cell_type": "markdown",
      "source": [
        "#### 7.what is a shortcut for the following code ?\n",
        "`if 'color' not in spam:\n",
        "    spam['color'] ='black'`\n",
        "    \n",
        "**Ans:** `spam.setdefault('color','black')`"
      ],
      "metadata": {
        "id": "0AP8FuoDd7Je"
      }
    },
    {
      "cell_type": "markdown",
      "source": [
        "#### 8.How do you 'pretty print' dictionary values using which modules and function ?\n",
        "**Ans:** we can pretty print a dictionary using three functions\n",
        "1. by using pprint() function of pprint module\n",
        "    * **Note:** pprint() function doesnot prettify nested dictionaries\n",
        "2. by using dumps() method of json module\n",
        "3. by using dumps() method of yaml module"
      ],
      "metadata": {
        "id": "XViJyv80d7Gm"
      }
    },
    {
      "cell_type": "code",
      "source": [
        "ndict = [\n",
        "  {'Name': 'John', 'Age': '23', 'Residence': {'Country':'USA', 'City': 'New York'}},\n",
        "  {'Name': 'Jose', 'Age': '44', 'Residence': {'Country':'Spain', 'City': 'Madrid'}},\n",
        "  {'Name': 'Anne', 'Age': '29', 'Residence': {'Country':'UK', 'City': 'England'}},\n",
        "  {'Name': 'Lee', 'Age': '35', 'Residence': {'Country':'Japan', 'City': 'Osaka'}}\n",
        "]\n",
        "\n",
        "print('Printing using print() function\\n',ndict)\n",
        "print('-'*70)\n",
        "import pprint\n",
        "print('Printing using pprint() funciton')\n",
        "pprint.pprint(ndict)\n",
        "print('-'*70)\n",
        "import json\n",
        "dump = json.dumps(ndict, indent=4)\n",
        "print('Printing using dumps() method\\n', dump)\n",
        "print('-'*70)\n",
        "import yaml\n",
        "dump = yaml.dump(ndict)\n",
        "print('Printing using dump() method\\n', dump)"
      ],
      "metadata": {
        "colab": {
          "base_uri": "https://localhost:8080/"
        },
        "id": "VP9BLGcudt8t",
        "outputId": "c95c029a-3266-4595-ab83-038c2c069757"
      },
      "execution_count": 1,
      "outputs": [
        {
          "output_type": "stream",
          "name": "stdout",
          "text": [
            "Printing using print() function\n",
            " [{'Name': 'John', 'Age': '23', 'Residence': {'Country': 'USA', 'City': 'New York'}}, {'Name': 'Jose', 'Age': '44', 'Residence': {'Country': 'Spain', 'City': 'Madrid'}}, {'Name': 'Anne', 'Age': '29', 'Residence': {'Country': 'UK', 'City': 'England'}}, {'Name': 'Lee', 'Age': '35', 'Residence': {'Country': 'Japan', 'City': 'Osaka'}}]\n",
            "----------------------------------------------------------------------\n",
            "Printing using pprint() funciton\n",
            "[{'Age': '23',\n",
            "  'Name': 'John',\n",
            "  'Residence': {'City': 'New York', 'Country': 'USA'}},\n",
            " {'Age': '44',\n",
            "  'Name': 'Jose',\n",
            "  'Residence': {'City': 'Madrid', 'Country': 'Spain'}},\n",
            " {'Age': '29',\n",
            "  'Name': 'Anne',\n",
            "  'Residence': {'City': 'England', 'Country': 'UK'}},\n",
            " {'Age': '35',\n",
            "  'Name': 'Lee',\n",
            "  'Residence': {'City': 'Osaka', 'Country': 'Japan'}}]\n",
            "----------------------------------------------------------------------\n",
            "Printing using dumps() method\n",
            " [\n",
            "    {\n",
            "        \"Name\": \"John\",\n",
            "        \"Age\": \"23\",\n",
            "        \"Residence\": {\n",
            "            \"Country\": \"USA\",\n",
            "            \"City\": \"New York\"\n",
            "        }\n",
            "    },\n",
            "    {\n",
            "        \"Name\": \"Jose\",\n",
            "        \"Age\": \"44\",\n",
            "        \"Residence\": {\n",
            "            \"Country\": \"Spain\",\n",
            "            \"City\": \"Madrid\"\n",
            "        }\n",
            "    },\n",
            "    {\n",
            "        \"Name\": \"Anne\",\n",
            "        \"Age\": \"29\",\n",
            "        \"Residence\": {\n",
            "            \"Country\": \"UK\",\n",
            "            \"City\": \"England\"\n",
            "        }\n",
            "    },\n",
            "    {\n",
            "        \"Name\": \"Lee\",\n",
            "        \"Age\": \"35\",\n",
            "        \"Residence\": {\n",
            "            \"Country\": \"Japan\",\n",
            "            \"City\": \"Osaka\"\n",
            "        }\n",
            "    }\n",
            "]\n",
            "----------------------------------------------------------------------\n",
            "Printing using dump() method\n",
            " - Age: '23'\n",
            "  Name: John\n",
            "  Residence:\n",
            "    City: New York\n",
            "    Country: USA\n",
            "- Age: '44'\n",
            "  Name: Jose\n",
            "  Residence:\n",
            "    City: Madrid\n",
            "    Country: Spain\n",
            "- Age: '29'\n",
            "  Name: Anne\n",
            "  Residence:\n",
            "    City: England\n",
            "    Country: UK\n",
            "- Age: '35'\n",
            "  Name: Lee\n",
            "  Residence:\n",
            "    City: Osaka\n",
            "    Country: Japan\n",
            "\n"
          ]
        }
      ]
    },
    {
      "cell_type": "code",
      "source": [],
      "metadata": {
        "id": "53lu6WXbeSsp"
      },
      "execution_count": null,
      "outputs": []
    }
  ]
}