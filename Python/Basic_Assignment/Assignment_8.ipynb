{
  "nbformat": 4,
  "nbformat_minor": 0,
  "metadata": {
    "colab": {
      "provenance": []
    },
    "kernelspec": {
      "name": "python3",
      "display_name": "Python 3"
    },
    "language_info": {
      "name": "python"
    }
  },
  "cells": [
    {
      "cell_type": "markdown",
      "source": [
        "# Assignment 8"
      ],
      "metadata": {
        "id": "3y6UrnQ43WyD"
      }
    },
    {
      "cell_type": "code",
      "source": [],
      "metadata": {
        "id": "H9AlhJOH3Zoi"
      },
      "execution_count": null,
      "outputs": []
    },
    {
      "cell_type": "markdown",
      "source": [
        "#### 1. Is the Python Standard Library included with PyInputPlus?\n",
        "**Ans:** No, **`PyInputPlus`** is not a part of Python Standard Library, it needs to be installed explicitly using the command **`!pip install PyInputPlus`**"
      ],
      "metadata": {
        "id": "GmnkGq0s3d2D"
      }
    },
    {
      "cell_type": "code",
      "source": [],
      "metadata": {
        "id": "CZlSL-i93g47"
      },
      "execution_count": null,
      "outputs": []
    },
    {
      "cell_type": "markdown",
      "source": [
        "#### 2. Why is PyInputPlus commonly imported with import pyinputplus as pypi?\n",
        "**Ans:** You can import the module with **`import pyinputplus as pyip`** so that you can enter a shorter name when calling the module's functions."
      ],
      "metadata": {
        "id": "spvjF6cz3hZH"
      }
    },
    {
      "cell_type": "code",
      "source": [],
      "metadata": {
        "id": "Qt0QTprh3h9i"
      },
      "execution_count": null,
      "outputs": []
    },
    {
      "cell_type": "markdown",
      "source": [
        "#### 3. How do you distinguish between inputInt() and inputFloat()?\n",
        "**Ans:** **`inputInt()`** function Accepts an integer value. This also takes additional parameters **`min`**, **`max`**, **`greaterThan`** and **`lessThan`** for bounds. And it always returns an int.\n",
        "\n",
        "Whereas **`inputFloat()`** function Accepts a floating-point numeric value. this also takes additional **`min`**, **`max`**, **`greaterThan`** and **`lessThan`** parameters. and always returns a float."
      ],
      "metadata": {
        "id": "sLNgfvrp3ief"
      }
    },
    {
      "cell_type": "code",
      "source": [],
      "metadata": {
        "id": "t2G-dV4o3lMQ"
      },
      "execution_count": null,
      "outputs": []
    },
    {
      "cell_type": "markdown",
      "source": [
        "#### 4. Using PyInputPlus, how do you ensure that the user enters a whole number between 0 and 99?\n",
        "**Ans:** **`PyInputPlus`** module provides a function called as **`inputInt()`** which only returns only integer values. inorder to restrict the input between 0 and 99, i'ii use parameters like **`min`** & **`max`** to ensure that user enters the values between the defined range only.\n",
        "\n",
        "`import pyinputplus as pyip`  \n",
        "`wholenumber = pyip.inputInt(prompt='Enter a number: ', min=0, max=100)`   \n",
        "`print(wholenumber)`  "
      ],
      "metadata": {
        "id": "1wcXEnBV3lzL"
      }
    },
    {
      "cell_type": "code",
      "source": [
        "!pip install PyInputPlus\n",
        "import pyinputplus as pyip\n",
        "wholenumber = pyip.inputInt(prompt='Enter a number: ', min=0, max=100)\n",
        "print(wholenumber) "
      ],
      "metadata": {
        "colab": {
          "base_uri": "https://localhost:8080/"
        },
        "id": "nxqlaa2i3pw_",
        "outputId": "c1948c44-3ac8-458d-9f62-abd042f297fe"
      },
      "execution_count": null,
      "outputs": [
        {
          "output_type": "stream",
          "name": "stdout",
          "text": [
            "Looking in indexes: https://pypi.org/simple, https://us-python.pkg.dev/colab-wheels/public/simple/\n",
            "Requirement already satisfied: PyInputPlus in /usr/local/lib/python3.8/dist-packages (0.2.12)\n",
            "Requirement already satisfied: stdiomask>=0.0.3 in /usr/local/lib/python3.8/dist-packages (from PyInputPlus) (0.0.6)\n",
            "Requirement already satisfied: pysimplevalidate>=0.2.7 in /usr/local/lib/python3.8/dist-packages (from PyInputPlus) (0.2.12)\n",
            "Enter a number: 10\n",
            "10\n"
          ]
        }
      ]
    },
    {
      "cell_type": "markdown",
      "source": [
        "#### 5. What is transferred to the keyword arguments allowRegexes and blockRegexes?\n",
        "**Ans:** we can use **`allowRegexes`** and **`blockRegexes`** keyword arguments to take list of regular expression strings to determine\n",
        "what the pyinputplus function will reject or accept valid input."
      ],
      "metadata": {
        "id": "OKdz6UP23qNd"
      }
    },
    {
      "cell_type": "code",
      "source": [],
      "metadata": {
        "id": "KxERle783q37"
      },
      "execution_count": null,
      "outputs": []
    },
    {
      "cell_type": "markdown",
      "source": [
        "#### 6. If a blank input is entered three times, what does inputStr(limit=3) do?\n",
        "**Ans:** The statement **`inputStr(limit=3)`** will throw two exceptions **`ValidationException`** and **`RetryLimitException`**. The first exception is thrown because blank values are not allowed by inputStr() function by default. it we want to consider blank values as valid input, we have to set **`blank=True`**.\n",
        "\n",
        "The second exception is occured because we have reached the max limit we have specified by using **`limit`** parameter. inorder to avoid this exception we can use **`default`** parameter to return a default value when max limit is reached."
      ],
      "metadata": {
        "id": "8AybwKMG3rnY"
      }
    },
    {
      "cell_type": "code",
      "source": [],
      "metadata": {
        "id": "AVP3eTMH3tdY"
      },
      "execution_count": null,
      "outputs": []
    },
    {
      "cell_type": "markdown",
      "source": [
        "#### 7. If blank input is entered three times, what does inputStr(limit=3, default='hello') do?\n",
        "**Ans:** Since the default parameter is set to **`hello`**. after blank input is entered three times instead of raising **`RetryLimitException`** exception. the function will return **`hello`** as response to the calling function"
      ],
      "metadata": {
        "id": "fzYE_5WB3uBn"
      }
    }
  ]
}