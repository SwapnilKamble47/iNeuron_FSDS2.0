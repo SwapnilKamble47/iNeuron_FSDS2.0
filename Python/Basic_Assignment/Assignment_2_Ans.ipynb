{
  "nbformat": 4,
  "nbformat_minor": 0,
  "metadata": {
    "colab": {
      "provenance": []
    },
    "kernelspec": {
      "name": "python3",
      "display_name": "Python 3"
    },
    "language_info": {
      "name": "python"
    }
  },
  "cells": [
    {
      "cell_type": "markdown",
      "source": [
        "1.What are the two values of the Boolean data type? How do you write them?\n",
        "\n"
      ],
      "metadata": {
        "id": "QQ0sIhJhqNbB"
      }
    },
    {
      "cell_type": "code",
      "source": [
        "\"\"\"\n",
        "1) True ie 1\n",
        "2) False ie 0\n",
        "\"\"\"\n",
        "\n",
        "A = True\n",
        "B = False\n",
        "\n",
        "print(f\" {A} {type(A)}\")\n",
        "print(f\"{B} {type(B)}\")"
      ],
      "metadata": {
        "colab": {
          "base_uri": "https://localhost:8080/"
        },
        "id": "DPVyfLVUqO5_",
        "outputId": "400587c5-352b-4ab3-e27d-a9d7cfc7690d"
      },
      "execution_count": null,
      "outputs": [
        {
          "output_type": "stream",
          "name": "stdout",
          "text": [
            " True <class 'bool'>\n",
            "False <class 'bool'>\n"
          ]
        }
      ]
    },
    {
      "cell_type": "markdown",
      "source": [
        "2. What are the three different types of Boolean operators?"
      ],
      "metadata": {
        "id": "QJF4lDbdqPhB"
      }
    },
    {
      "cell_type": "code",
      "source": [
        "\"\"\"\n",
        "AND\n",
        "OR\n",
        "NOT\n",
        "\n",
        "\"\"\"\n",
        "\n",
        "print(True and True)\n",
        "print(False or True)\n",
        "print(not True)"
      ],
      "metadata": {
        "colab": {
          "base_uri": "https://localhost:8080/"
        },
        "id": "DQwCIGrzqQT8",
        "outputId": "b74e2e62-626c-4786-8e35-9702b0ef5adf"
      },
      "execution_count": null,
      "outputs": [
        {
          "output_type": "stream",
          "name": "stdout",
          "text": [
            "True\n",
            "True\n",
            "False\n"
          ]
        }
      ]
    },
    {
      "cell_type": "markdown",
      "source": [
        "3.Make a list of each Boolean operator's truth tables (i.e. every possible combination of Boolean values for the operator and what it evaluate ).\n",
        "\n",
        "  A | B | A And B \n",
        "  - | - | - \n",
        "  False | False | False \n",
        "  False | True | False \n",
        "  True | False | False \n",
        "  True | True | True\n",
        "\n",
        " A | B | A or  B \n",
        "  - | - | - \n",
        "  False | False | False \n",
        "  False | True | True \n",
        "  True | False | True \n",
        "  True | True | True\n",
        "\n",
        "   A | NOT A\n",
        "  - | - \n",
        "  False | TRUE\n",
        "  TRUE | FALSE\n",
        " "
      ],
      "metadata": {
        "id": "fo84s01LtRA2"
      }
    },
    {
      "cell_type": "markdown",
      "source": [
        "4.What are the values of the following expressions?\n",
        "\n",
        "- (5 > 4) and (3 == 5)\n",
        "- not (5 > 4)\n",
        "- (5 > 4) or (3 == 5)\n",
        "- not ((5 > 4) or (3 == 5))\n",
        "- (True and True) and (True == False)\n",
        "- (not False) or (not True)\n"
      ],
      "metadata": {
        "id": "bQOhBL1wv80M"
      }
    },
    {
      "cell_type": "code",
      "source": [
        "(5 > 4) and (3 == 5)"
      ],
      "metadata": {
        "colab": {
          "base_uri": "https://localhost:8080/"
        },
        "id": "-ApFZS7wsZmF",
        "outputId": "567b5fa4-855c-4105-99fe-3129f43b0b83"
      },
      "execution_count": null,
      "outputs": [
        {
          "output_type": "execute_result",
          "data": {
            "text/plain": [
              "False"
            ]
          },
          "metadata": {},
          "execution_count": 8
        }
      ]
    },
    {
      "cell_type": "code",
      "source": [
        "not (5 > 4)"
      ],
      "metadata": {
        "colab": {
          "base_uri": "https://localhost:8080/"
        },
        "id": "wF5lIrlswP68",
        "outputId": "6c52aa63-918d-4eec-d008-f68a39a85497"
      },
      "execution_count": null,
      "outputs": [
        {
          "output_type": "execute_result",
          "data": {
            "text/plain": [
              "False"
            ]
          },
          "metadata": {},
          "execution_count": 9
        }
      ]
    },
    {
      "cell_type": "code",
      "source": [
        "(5 > 4) or (3 == 5)"
      ],
      "metadata": {
        "colab": {
          "base_uri": "https://localhost:8080/"
        },
        "id": "tKMTRNGPwTR2",
        "outputId": "8cdec381-a97a-470f-bd03-9db16ee1b6b7"
      },
      "execution_count": null,
      "outputs": [
        {
          "output_type": "execute_result",
          "data": {
            "text/plain": [
              "True"
            ]
          },
          "metadata": {},
          "execution_count": 10
        }
      ]
    },
    {
      "cell_type": "code",
      "source": [
        "(True and True) and (True == False)"
      ],
      "metadata": {
        "colab": {
          "base_uri": "https://localhost:8080/"
        },
        "id": "GGqIqmHlwVrj",
        "outputId": "f1b30a97-3ba2-4c6f-f102-0b62331f9222"
      },
      "execution_count": null,
      "outputs": [
        {
          "output_type": "execute_result",
          "data": {
            "text/plain": [
              "False"
            ]
          },
          "metadata": {},
          "execution_count": 11
        }
      ]
    },
    {
      "cell_type": "code",
      "source": [
        "(not False) or (not True)"
      ],
      "metadata": {
        "colab": {
          "base_uri": "https://localhost:8080/"
        },
        "id": "Df_UsQBywX_a",
        "outputId": "2f72db14-c37d-45e0-e89b-3c14d07ec993"
      },
      "execution_count": null,
      "outputs": [
        {
          "output_type": "execute_result",
          "data": {
            "text/plain": [
              "True"
            ]
          },
          "metadata": {},
          "execution_count": 12
        }
      ]
    },
    {
      "cell_type": "markdown",
      "source": [
        "5.What are the six comparison operators?\n",
        "```Python\n",
        ">   Greater than\n",
        ">=  Greater than or equal to\n",
        "<   Less than\n",
        "<=  Less than or equal to\n",
        "==  Equal to\n",
        "!=  Not equal to\n",
        "```"
      ],
      "metadata": {
        "id": "uN6ZRa_wwuN9"
      }
    },
    {
      "cell_type": "markdown",
      "source": [
        "6. How do you tell the difference between the equal to and assignment operators?Describe a condition and when you would use one.\n",
        "``` Python\n",
        "= is used to assign\n",
        "== is uded to compare\n",
        "```\n"
      ],
      "metadata": {
        "id": "mjjsLF5UaP1R"
      }
    },
    {
      "cell_type": "code",
      "source": [
        "A = 30  # Assign 30 to Variable A\n",
        "B = 30  # Assign 30 to Variable B\n",
        "\n",
        "if A == B:  # Compare A & B are Equal\n",
        "  print(\"A are B is Equal\")"
      ],
      "metadata": {
        "colab": {
          "base_uri": "https://localhost:8080/"
        },
        "id": "1cH8PfSTwauX",
        "outputId": "78d0a739-4c7f-404b-ac66-e00d9dd72eba"
      },
      "execution_count": null,
      "outputs": [
        {
          "output_type": "stream",
          "name": "stdout",
          "text": [
            "A are B is Equal\n"
          ]
        }
      ]
    },
    {
      "cell_type": "markdown",
      "source": [
        "7. Identify the three blocks in this code:\n",
        "```python\n",
        "spam = 0\n",
        "if spam == 10:\n",
        "print('eggs')\n",
        "if spam > 5:\n",
        "print('bacon')\n",
        "else:\n",
        "print('ham')\n",
        "print('spam')\n",
        "print('spam')\n",
        "```"
      ],
      "metadata": {
        "id": "GidxFpi1c7SQ"
      }
    },
    {
      "cell_type": "code",
      "source": [
        "spam = 0\n",
        "if spam == 10:\n",
        "  print('eggs') # 1st Block\n",
        "if spam > 5:\n",
        "  print('bacon') # 2nd Block\n",
        "else:\n",
        "  print('ham') # 3rd Block\n",
        "print('spam')\n",
        "print('spam')\n"
      ],
      "metadata": {
        "colab": {
          "base_uri": "https://localhost:8080/"
        },
        "id": "tIVLXcrbbU4B",
        "outputId": "c41722d1-dfda-4cf6-ee98-6965111ef30b"
      },
      "execution_count": null,
      "outputs": [
        {
          "output_type": "stream",
          "name": "stdout",
          "text": [
            "ham\n",
            "spam\n",
            "spam\n"
          ]
        }
      ]
    },
    {
      "cell_type": "markdown",
      "source": [
        "8. Write code that prints Hello if 1 is stored in spam, prints Howdy if 2 is stored in spam, and prints Greetings! if anything else is stored in spam."
      ],
      "metadata": {
        "id": "rAHU9bO_eqk7"
      }
    },
    {
      "cell_type": "code",
      "source": [
        "A = int(input(\"Enter Value : \"))\n",
        "if A == 1:\n",
        "   print(\"Hello\")\n",
        "elif A == 2:\n",
        "  print(\"Howdy\")\n",
        "else:\n",
        "  print(\"Greetings!\")"
      ],
      "metadata": {
        "colab": {
          "base_uri": "https://localhost:8080/"
        },
        "id": "-ACA_6PadHq7",
        "outputId": "84f2ec21-5681-4867-d3db-8e6a3cb06580"
      },
      "execution_count": null,
      "outputs": [
        {
          "output_type": "stream",
          "name": "stdout",
          "text": [
            "Enter Value : 1\n",
            "Hello\n"
          ]
        }
      ]
    },
    {
      "cell_type": "code",
      "source": [
        "A = int(input(\"Enter Value : \"))\n",
        "if A == 1:\n",
        "   print(\"Hello\")\n",
        "elif A == 2:\n",
        "  print(\"Howdy\")\n",
        "else:\n",
        "  print(\"Greetings!\")"
      ],
      "metadata": {
        "colab": {
          "base_uri": "https://localhost:8080/"
        },
        "id": "szR8MizofU_5",
        "outputId": "d9145a8f-d41b-41b1-9a60-7ca038d0b235"
      },
      "execution_count": null,
      "outputs": [
        {
          "output_type": "stream",
          "name": "stdout",
          "text": [
            "Enter Value : 2\n",
            "Howdy\n"
          ]
        }
      ]
    },
    {
      "cell_type": "code",
      "source": [
        "A = int(input(\"Enter Value : \"))\n",
        "if A == 1:\n",
        "   print(\"Hello\")\n",
        "elif A == 2:\n",
        "  print(\"Howdy\")\n",
        "else:\n",
        "  print(\"Greetings!\")"
      ],
      "metadata": {
        "colab": {
          "base_uri": "https://localhost:8080/"
        },
        "id": "BnVoxZ0IfgZY",
        "outputId": "7cec8764-5980-4d2f-bb3a-d6dfa8d891b3"
      },
      "execution_count": null,
      "outputs": [
        {
          "output_type": "stream",
          "name": "stdout",
          "text": [
            "Enter Value : 5\n",
            "Greetings!\n"
          ]
        }
      ]
    },
    {
      "cell_type": "markdown",
      "source": [
        "9.If your programme is stuck in an endless loop, what keys you’ll press?"
      ],
      "metadata": {
        "id": "JIrTeheinIwt"
      }
    },
    {
      "cell_type": "code",
      "source": [
        "# Ans: Press `Ctrl-c` to stop a program stuck in an infinite loop"
      ],
      "metadata": {
        "id": "fuZB3X07fiR-"
      },
      "execution_count": 2,
      "outputs": []
    },
    {
      "cell_type": "markdown",
      "source": [
        "10. How can you tell the difference between break and continue?\n",
        "```\n",
        "Ans: The `break` statement will move the execution outside the loop\n",
        " if break condtion is satisfied. Whereas the `continue` statement will\n",
        "  move the execution to the start of the loop.\n",
        "```"
      ],
      "metadata": {
        "id": "yr-c95dUneDS"
      }
    },
    {
      "cell_type": "markdown",
      "source": [
        "11. In a for loop, what is the difference between range(10), range(0, 10), and range(0, 10, 1)?\n",
        "```\n",
        "**Ans:** The Differences are as follows:  \n",
        "1. The _**range(10)**_ call range from 0 to 9 (but not include 10)  \n",
        "2. The _**range (0,10)**_ explicitly tells the loop to start at 0  \n",
        "3. The _**range(0,10,1)**_ explicitly tells the loop to increase the variable by 1 on each iteration   \n",
        "````"
      ],
      "metadata": {
        "id": "g-PcUb5cn3kE"
      }
    },
    {
      "cell_type": "code",
      "source": [],
      "metadata": {
        "id": "TjEYsDbOn_tN"
      },
      "execution_count": null,
      "outputs": []
    },
    {
      "cell_type": "markdown",
      "source": [
        "12. Write a short program that prints the numbers 1 to 10 using a for loop. Then write an equivalent program that prints the numbers 1 to 10 using a while loop."
      ],
      "metadata": {
        "id": "iDBOA97woNyW"
      }
    },
    {
      "cell_type": "code",
      "source": [
        "print('-'*10,'Using For Loop','-'*10)\n",
        "for i in range(1,11):\n",
        "    print(i, end=\" \")\n",
        "print('\\n')\n",
        "print('-'*10,'Using While Loop','-'*10) \n",
        "i=1\n",
        "while i<=10:\n",
        "    print(i, end=\" \")\n",
        "    i+=1"
      ],
      "metadata": {
        "colab": {
          "base_uri": "https://localhost:8080/"
        },
        "id": "TvL5wx53oWbq",
        "outputId": "25d702d3-e148-43b3-a9bb-f3498fdd94aa"
      },
      "execution_count": 3,
      "outputs": [
        {
          "output_type": "stream",
          "name": "stdout",
          "text": [
            "---------- Using For Loop ----------\n",
            "1 2 3 4 5 6 7 8 9 10 \n",
            "\n",
            "---------- Using While Loop ----------\n",
            "1 2 3 4 5 6 7 8 9 10 "
          ]
        }
      ]
    },
    {
      "cell_type": "code",
      "source": [],
      "metadata": {
        "id": "C1gcArQzosNv"
      },
      "execution_count": null,
      "outputs": []
    },
    {
      "cell_type": "markdown",
      "source": [
        "13. If you had a function named bacon() inside a module named spam, how would you call it after importing spam?\n",
        "\n",
        "```\n",
        "**Ans:** This function can be called with spam.bacon()\n",
        "\n",
        "```"
      ],
      "metadata": {
        "id": "MXz4_mHHorh_"
      }
    },
    {
      "cell_type": "code",
      "source": [],
      "metadata": {
        "id": "K0Wazqr6ovBM"
      },
      "execution_count": null,
      "outputs": []
    }
  ]
}