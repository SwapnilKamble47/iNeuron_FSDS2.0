{
  "nbformat": 4,
  "nbformat_minor": 0,
  "metadata": {
    "colab": {
      "provenance": []
    },
    "kernelspec": {
      "name": "python3",
      "display_name": "Python 3"
    },
    "language_info": {
      "name": "python"
    }
  },
  "cells": [
    {
      "cell_type": "code",
      "execution_count": 3,
      "metadata": {
        "colab": {
          "base_uri": "https://localhost:8080/"
        },
        "id": "NQ7fN-Qd-Sn6",
        "outputId": "2e2e059c-c635-4bc3-c0fc-bf46824978a8"
      },
      "outputs": [
        {
          "output_type": "stream",
          "name": "stdout",
          "text": [
            "String ➞ SSttrriinngg \n",
            "Hello World! ➞ HHeelllloo  WWoorrlldd!! \n",
            "1234!_  ➞ 11223344!!__   \n"
          ]
        }
      ],
      "source": [
        "\"\"\"Question1\n",
        "Create a function that takes a string and returns a string in which each character is repeated once.\n",
        "Examples\n",
        "double_char(\"String\") ➞ \"SSttrriinngg\"\n",
        "\n",
        "double_char(\"Hello World!\") ➞ \"HHeelllloo  WWoorrlldd!!\"\n",
        "\n",
        "double_char(\"1234!_ \") ➞ \"11223344!!__  \" \"\"\"\n",
        "def double_char(args):\n",
        "  out_char = \"\"\n",
        "  for i in args:\n",
        "    out_char += i*2\n",
        "  return print(f\"{args} ➞ {out_char} \")\n",
        "double_char(\"String\")\n",
        "double_char(\"Hello World!\")\n",
        "double_char(\"1234!_ \")"
      ]
    },
    {
      "cell_type": "code",
      "source": [
        "\"\"\"Question2\n",
        "Create a function that reverses a boolean value and returns the string \"boolean expected\" if another variable type is given.\n",
        "Examples\n",
        "reverse(True) ➞ False\n",
        "\n",
        "reverse(False) ➞ True\n",
        "\n",
        "reverse(0) ➞ \"boolean expected\"\n",
        "\n",
        "reverse(None) ➞ \"boolean expected\" \"\"\"\n",
        "\n",
        "def reverse(args):\n",
        "  if type(args) == bool:\n",
        "    return print(f\" {args} ➞ {not args}\")\n",
        "  else:\n",
        "    return print(f\"{args} ➞ boolean expected\")\n",
        "\n",
        "reverse(True)\n",
        "reverse(False)\n",
        "reverse(0)\n",
        "reverse(None)"
      ],
      "metadata": {
        "colab": {
          "base_uri": "https://localhost:8080/"
        },
        "id": "krV46XWC_I3W",
        "outputId": "55f705da-709b-482e-96a5-ce366b8c734b"
      },
      "execution_count": 9,
      "outputs": [
        {
          "output_type": "stream",
          "name": "stdout",
          "text": [
            " True ➞ False\n",
            " False ➞ True\n",
            "0 ➞ boolean expected\n",
            "None ➞ boolean expected\n"
          ]
        }
      ]
    },
    {
      "cell_type": "code",
      "source": [
        "\"\"\"Question3\n",
        "Create a function that returns the thickness (in meters) of a piece of paper after \n",
        "folding it n number of times. The paper starts off with a thickness of 0.5mm.\n",
        "Examples\n",
        "num_layers(1) ➞ \"0.001m\"\n",
        "# Paper folded once is 1mm (equal to 0.001m)\n",
        "\n",
        "num_layers(4) ➞ \"0.008m\"\n",
        "# Paper folded 4 times is 8mm (equal to 0.008m)\n",
        "\n",
        "num_layers(21) ➞ \"1048.576m\"\n",
        "# Paper folded 21 times is 1048576mm (equal to 1048.576m)\"\"\"\n",
        "\n",
        "def num_layers(args):\n",
        "  out = 0.5\n",
        "  for i in range(args):\n",
        "    out *= 2\n",
        "  return print(f\"paper fold {args} times is {out}mm (equal to {out/1000}m)\")\n",
        "\n",
        "num_layers(1)\n",
        "num_layers(4)\n",
        "num_layers(21)"
      ],
      "metadata": {
        "colab": {
          "base_uri": "https://localhost:8080/"
        },
        "id": "Rvn7H7JzAM5e",
        "outputId": "899afc64-5e20-4091-cea9-300a0d4045a2"
      },
      "execution_count": 23,
      "outputs": [
        {
          "output_type": "stream",
          "name": "stdout",
          "text": [
            "paper fold 1 times is 1.0mm (equal to 0.001m)\n",
            "paper fold 4 times is 8.0mm (equal to 0.008m)\n",
            "paper fold 21 times is 1048576.0mm (equal to 1048.576m)\n"
          ]
        }
      ]
    },
    {
      "cell_type": "code",
      "source": [
        "\"\"\"Question4\n",
        "Create a function that takes a single string as argument and returns an ordered \n",
        "list containing the indices of all capital letters in the string.\n",
        "Examples\n",
        "index_of_caps(\"eDaBiT\") ➞ [1, 3, 5]\n",
        "\n",
        "index_of_caps(\"eQuINoX\") ➞ [1, 3, 4, 6]\n",
        "\n",
        "index_of_caps(\"determine\") ➞ []\n",
        "\n",
        "index_of_caps(\"STRIKE\") ➞ [0, 1, 2, 3, 4, 5]\n",
        "\n",
        "index_of_caps(\"sUn\") ➞ [1]\"\"\"\n",
        "\n",
        "def index_of_caps(args):\n",
        "  l = []\n",
        "  for i,j in zip(args, range(len(args))):\n",
        "    if i.isupper():\n",
        "      l.append(j)\n",
        "  return print(f\"{args} ➞ {l}\")\n",
        "\n",
        "index_of_caps(\"eDaBiT\") # ➞ [1, 3, 5]\n",
        "\n",
        "index_of_caps(\"eQuINoX\") #➞ [1, 3, 4, 6]\n",
        "\n",
        "index_of_caps(\"determine\") #➞ []\n",
        "\n",
        "index_of_caps(\"STRIKE\") #➞ [0, 1, 2, 3, 4, 5]\n",
        "\n",
        "index_of_caps(\"sUn\") #➞ [1]\"\"\""
      ],
      "metadata": {
        "colab": {
          "base_uri": "https://localhost:8080/"
        },
        "id": "JOexWV2qCqTK",
        "outputId": "5ba15250-e157-4985-9132-c38065cb70a0"
      },
      "execution_count": 45,
      "outputs": [
        {
          "output_type": "stream",
          "name": "stdout",
          "text": [
            "eDaBiT ➞ [1, 3, 5]\n",
            "eQuINoX ➞ [1, 3, 4, 6]\n",
            "determine ➞ []\n",
            "STRIKE ➞ [0, 1, 2, 3, 4, 5]\n",
            "sUn ➞ [1]\n"
          ]
        }
      ]
    },
    {
      "cell_type": "code",
      "source": [
        "\"\"\"Question5\n",
        "Using list comprehensions, create a function that finds all even numbers from 1 to the given number.\n",
        "Examples\n",
        "find_even_nums(8) ➞ [2, 4, 6, 8]\n",
        "\n",
        "find_even_nums(4) ➞ [2, 4]\n",
        "\n",
        "find_even_nums(2) ➞ [2]\"\"\"\n",
        "def find_even_nums(args):\n",
        "  #print(\"num\", args)\n",
        "  l = []\n",
        "  for i in range(1, args+1,1):\n",
        "   # print(\"i\", i)\n",
        "    if i % 2 == 0:\n",
        "    #  print(\"T\",)\n",
        "      l.append(i)\n",
        "  return print(f\"{args} ➞ {l} \")\n",
        "\n",
        "find_even_nums(8) # ➞ [2, 4, 6, 8]\n",
        "\n",
        "find_even_nums(4) # ➞ [2, 4]\n",
        "\n",
        "find_even_nums(2) # ➞ [2]\"\"\""
      ],
      "metadata": {
        "colab": {
          "base_uri": "https://localhost:8080/"
        },
        "id": "vCKH33qdH4U4",
        "outputId": "880ecc24-06d7-45f1-ff67-b623db7ec4e7"
      },
      "execution_count": 65,
      "outputs": [
        {
          "output_type": "stream",
          "name": "stdout",
          "text": [
            "8 ➞ [2, 4, 6, 8] \n",
            "4 ➞ [2, 4] \n",
            "2 ➞ [2] \n"
          ]
        }
      ]
    }
  ]
}