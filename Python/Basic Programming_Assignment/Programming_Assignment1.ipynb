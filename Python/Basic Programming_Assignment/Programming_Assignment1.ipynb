{
  "nbformat": 4,
  "nbformat_minor": 0,
  "metadata": {
    "colab": {
      "provenance": []
    },
    "kernelspec": {
      "name": "python3",
      "display_name": "Python 3"
    },
    "language_info": {
      "name": "python"
    }
  },
  "cells": [
    {
      "cell_type": "code",
      "source": [
        "# 1.\tWrite a Python program to print \"Hello Python\"?\n",
        "\n",
        "print(\"Hello Python\")"
      ],
      "metadata": {
        "colab": {
          "base_uri": "https://localhost:8080/"
        },
        "id": "652fb_md6Nnb",
        "outputId": "9d10b6ac-11dc-4064-91f3-6a2597447216"
      },
      "execution_count": null,
      "outputs": [
        {
          "output_type": "stream",
          "name": "stdout",
          "text": [
            "Hello Python\n"
          ]
        }
      ]
    },
    {
      "cell_type": "code",
      "source": [
        "# 2.\tWrite a Python program to do arithmetical operations addition and division.?\n",
        "\n",
        "A = 10\n",
        "B = 20\n",
        "\n",
        "print(\"addition is\", (A+B))\n",
        "print(\"Division is\", (A/B) )"
      ],
      "metadata": {
        "colab": {
          "base_uri": "https://localhost:8080/"
        },
        "id": "8GPvBWT_7RKG",
        "outputId": "ea635ef6-3c7d-43a4-fd55-8cb73ca7dd5f"
      },
      "execution_count": null,
      "outputs": [
        {
          "output_type": "stream",
          "name": "stdout",
          "text": [
            "addition is 30\n",
            "Division is 0.5\n"
          ]
        }
      ]
    },
    {
      "cell_type": "code",
      "source": [
        "# 3.\tWrite a Python program to find the area of a triangle?\n",
        "# Area = (Height * base) % 2\n",
        "height = int(input(\"Enter Height: \"))\n",
        "base = int(input(\"Enter Base: \"))\n",
        "area = (height*base)/2\n",
        "(\"Area is\",area )"
      ],
      "metadata": {
        "colab": {
          "base_uri": "https://localhost:8080/"
        },
        "id": "4xASORNy7oVw",
        "outputId": "0a14b88d-d538-4fd9-b9fa-b3272fc1e597"
      },
      "execution_count": null,
      "outputs": [
        {
          "name": "stdout",
          "output_type": "stream",
          "text": [
            "Enter Height: 2\n",
            "Enter Base: 2\n"
          ]
        },
        {
          "output_type": "execute_result",
          "data": {
            "text/plain": [
              "('Area is', 2.0)"
            ]
          },
          "metadata": {},
          "execution_count": 7
        }
      ]
    },
    {
      "cell_type": "code",
      "source": [
        "# 4.\tWrite a Python program to swap two variables?\n",
        "A = 20\n",
        "B = 30\n",
        "temp1 = B\n",
        "B = A\n",
        "A = temp1\n",
        "print(\"A is: \", A)\n",
        "print(\"B is: \", B)"
      ],
      "metadata": {
        "colab": {
          "base_uri": "https://localhost:8080/"
        },
        "id": "SWn2YNQk73I2",
        "outputId": "795c9c84-a0fb-4b47-83a7-7ff85f0321d1"
      },
      "execution_count": null,
      "outputs": [
        {
          "output_type": "stream",
          "name": "stdout",
          "text": [
            "A is:  30\n",
            "B is:  20\n"
          ]
        }
      ]
    },
    {
      "cell_type": "code",
      "source": [
        "# 5.\tWrite a Python program to generate a random number?\n",
        "from random import randint\n",
        "\n",
        "def generateRandomNumber(start=0, end=100000):\n",
        "    print('Random number -> ',randint(start,end))\n",
        "\n",
        "# Generating random numbers without arguments    \n",
        "generateRandomNumber()\n",
        "\n",
        "# Generating random numbers with arguments    \n",
        "generateRandomNumber(0,100)"
      ],
      "metadata": {
        "id": "IYj5xO_P9xjr",
        "colab": {
          "base_uri": "https://localhost:8080/"
        },
        "outputId": "0addaee3-99f6-4a8b-99bd-cb554fdc457e"
      },
      "execution_count": 1,
      "outputs": [
        {
          "output_type": "stream",
          "name": "stdout",
          "text": [
            "Random number ->  75538\n",
            "Random number ->  35\n"
          ]
        }
      ]
    },
    {
      "cell_type": "code",
      "source": [],
      "metadata": {
        "id": "MW4C0mXUwiOV"
      },
      "execution_count": null,
      "outputs": []
    }
  ]
}