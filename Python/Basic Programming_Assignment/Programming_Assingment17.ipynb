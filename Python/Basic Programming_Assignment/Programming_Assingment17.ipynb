{
  "nbformat": 4,
  "nbformat_minor": 0,
  "metadata": {
    "colab": {
      "provenance": []
    },
    "kernelspec": {
      "name": "python3",
      "display_name": "Python 3"
    },
    "language_info": {
      "name": "python"
    }
  },
  "cells": [
    {
      "cell_type": "code",
      "source": [
        "\"\"\"Question1. Create a function that takes three arguments a, b, c and returns \n",
        "the sum of the numbers that are evenly divided by c from the range a, b inclusive.\n",
        "Examples\n",
        "evenly_divisible(1, 10, 20) ➞ 0\n",
        "# No number between 1 and 10 can be evenly divided by 20.\n",
        "\n",
        "evenly_divisible(1, 10, 2) ➞ 30\n",
        "# 2 + 4 + 6 + 8 + 10 = 30\n",
        "\n",
        "evenly_divisible(1, 10, 3) ➞ 18\n",
        "# 3 + 6 + 9 = 18\"\"\"\n",
        "def evenly_div(a,b,c):\n",
        "  sum1 = 0\n",
        "  for i in range(a,b+1):\n",
        "    if i%c == 0:\n",
        "      sum1 += i\n",
        "  return print(f\"for {a,b,c} ➞ {sum1} \")\n",
        "evenly_div(1, 10, 20)\n",
        "evenly_div(1, 10, 2)\n",
        "evenly_div(1, 10, 3)"
      ],
      "metadata": {
        "id": "pKBVnqna1zJL",
        "colab": {
          "base_uri": "https://localhost:8080/"
        },
        "outputId": "fa35afc1-2f5a-4318-9cf4-728a29ac0819"
      },
      "execution_count": 11,
      "outputs": [
        {
          "output_type": "stream",
          "name": "stdout",
          "text": [
            "for (1, 10, 20) ➞ 0 \n",
            "for (1, 10, 2) ➞ 30 \n",
            "for (1, 10, 3) ➞ 18 \n"
          ]
        }
      ]
    },
    {
      "cell_type": "code",
      "execution_count": 29,
      "metadata": {
        "id": "6sOF000R1JZI",
        "colab": {
          "base_uri": "https://localhost:8080/"
        },
        "outputId": "41b8973a-b5de-494b-9e60-b4060d6f50f5"
      },
      "outputs": [
        {
          "output_type": "stream",
          "name": "stdout",
          "text": [
            "3 < 7 < 11 ➞ True\n",
            "13 > 44 > 33 > 1 ➞ False\n",
            "1 < 2 < 6 < 9 > 3 ➞ True\n"
          ]
        }
      ],
      "source": [
        "\"\"\"Question2. Create a function that returns True \n",
        "if a given inequality expression is correct and False otherwise.\n",
        "Examples\n",
        "correct_signs(\"3 < 7 < 11\") ➞ True\n",
        "\n",
        "correct_signs(\"13 > 44 > 33 > 1\") ➞ False\n",
        "\n",
        "correct_signs(\"1 < 2 < 6 < 9 > 3\") ➞ True\"\"\"\n",
        "def inequality(args):\n",
        "  if eval(args) == True :\n",
        "    print(f\"{args} ➞ True\")\n",
        "  else:\n",
        "    print(f\"{args} ➞ False\")\n",
        "inequality(\"3 < 7 < 11\")\n",
        "inequality(\"13 > 44 > 33 > 1\")\n",
        "inequality(\"1 < 2 < 6 < 9 > 3\")"
      ]
    },
    {
      "cell_type": "code",
      "source": [
        "\"\"\"Question3. Create a function that replaces all the vowels in a string with a specified character.\n",
        "Examples\n",
        "replace_vowels(\"the aardvark\", \"#\") ➞ \"th# ##rdv#rk\"\n",
        "\n",
        "replace_vowels(\"minnie mouse\", \"?\") ➞ \"m?nn?? m??s?\"\n",
        "\n",
        "replace_vowels(\"shakespeare\", \"*\") ➞ \"sh*k*sp**r*\" \"\"\"\n",
        "def replace_vowels(a,b):\n",
        "  vovel= ['a','e','i','o','u','A','E','I','O','U']\n",
        "  a_copy = a\n",
        "  for i in a:\n",
        "    if i in vovel:\n",
        "      a = a.replace(i,b)\n",
        "  return print(f\"{a_copy,b} ➞ {a}\")\n",
        "\n",
        "replace_vowels(\"the aardvark\", \"#\")\n",
        "replace_vowels(\"minnie mouse\", \"?\")\n",
        "replace_vowels(\"shakespeare\", \"*\")"
      ],
      "metadata": {
        "colab": {
          "base_uri": "https://localhost:8080/"
        },
        "id": "43frkLAmZp1V",
        "outputId": "0a742153-83e8-4449-e9c4-850ee63b7cdf"
      },
      "execution_count": 39,
      "outputs": [
        {
          "output_type": "stream",
          "name": "stdout",
          "text": [
            "('the aardvark', '#') ➞ th# ##rdv#rk\n",
            "('minnie mouse', '?') ➞ m?nn?? m??s?\n",
            "('shakespeare', '*') ➞ sh*k*sp**r*\n"
          ]
        }
      ]
    },
    {
      "cell_type": "code",
      "source": [
        "\"\"\"Question4. Write a function that calculates the factorial of a number recursively.\n",
        "Examples\n",
        "factorial(5) ➞ 120\n",
        "\n",
        "factorial(3) ➞ 6\n",
        "\n",
        "factorial(1) ➞ 1\n",
        "\n",
        "factorial(0) ➞ 1\"\"\"\n",
        "\n",
        "def factorial(a):\n",
        "  fact = 1\n",
        "  for i in range(1,a+1):\n",
        "    fact *= i\n",
        "  return print(f\"factorial({a}) ➞ {fact}\")\n",
        "\n",
        "factorial(5)\n",
        "factorial(3)\n",
        "factorial(1)\n",
        "factorial(0)"
      ],
      "metadata": {
        "colab": {
          "base_uri": "https://localhost:8080/"
        },
        "id": "d-JTe5Teb6Or",
        "outputId": "5189c312-d810-4937-c248-5556e6fe5f1d"
      },
      "execution_count": 53,
      "outputs": [
        {
          "output_type": "stream",
          "name": "stdout",
          "text": [
            "factorial(5) ➞ 120\n",
            "factorial(3) ➞ 6\n",
            "factorial(1) ➞ 1\n",
            "factorial(0) ➞ 1\n"
          ]
        }
      ]
    },
    {
      "cell_type": "code",
      "source": [
        "\"\"\"Question 5\n",
        "Hamming distance is the number of characters that differ between two strings.\n",
        "To illustrate:\n",
        "String1: \"abcbba\"\n",
        "String2: \"abcbda\"\n",
        "\n",
        "Hamming Distance: 1 - \"b\" vs. \"d\" is the only difference.\n",
        "Create a function that computes the hamming distance between two strings.\n",
        "Examples\n",
        "hamming_distance(\"abcde\", \"bcdef\") ➞ 5\n",
        "\n",
        "hamming_distance(\"abcde\", \"abcde\") ➞ 0\n",
        "\n",
        "hamming_distance(\"strong\", \"strung\") ➞ 1\"\"\"\n",
        "\n",
        "def hamming_distance(String1,String2):\n",
        "  count = 0\n",
        "  for i in range(len(String1)):\n",
        "   if String1[i] != String2[i]:\n",
        "    count += 1\n",
        "  print(f\"{String1},{String2} ➞ {count}\")\n",
        "\n",
        "hamming_distance(\"abcde\", \"bcdef\")\n",
        "hamming_distance(\"abcde\", \"abcde\")\n",
        "hamming_distance(\"strong\", \"strung\")\n",
        "  "
      ],
      "metadata": {
        "colab": {
          "base_uri": "https://localhost:8080/"
        },
        "id": "mTtoSGxVez7g",
        "outputId": "19cc7b9e-630f-4c19-ebb5-dfde1e90d0d2"
      },
      "execution_count": 16,
      "outputs": [
        {
          "output_type": "stream",
          "name": "stdout",
          "text": [
            "abcde,bcdef ➞ 5\n",
            "abcde,abcde ➞ 0\n",
            "strong,strung ➞ 1\n"
          ]
        }
      ]
    },
    {
      "cell_type": "code",
      "source": [],
      "metadata": {
        "colab": {
          "base_uri": "https://localhost:8080/"
        },
        "id": "7mlNWxELgsH1",
        "outputId": "ab2eafb1-243d-4461-b5b1-64696901a9b0"
      },
      "execution_count": 10,
      "outputs": [
        {
          "output_type": "stream",
          "name": "stdout",
          "text": [
            "5\n"
          ]
        }
      ]
    },
    {
      "cell_type": "code",
      "source": [],
      "metadata": {
        "id": "vzR6VJSXBgR5"
      },
      "execution_count": null,
      "outputs": []
    }
  ]
}