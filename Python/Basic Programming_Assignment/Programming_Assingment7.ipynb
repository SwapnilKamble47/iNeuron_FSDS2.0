{
  "nbformat": 4,
  "nbformat_minor": 0,
  "metadata": {
    "colab": {
      "provenance": []
    },
    "kernelspec": {
      "name": "python3",
      "display_name": "Python 3"
    },
    "language_info": {
      "name": "python"
    }
  },
  "cells": [
    {
      "cell_type": "markdown",
      "source": [],
      "metadata": {
        "id": "dxFyrlT9XkpI"
      }
    },
    {
      "cell_type": "code",
      "source": [
        "# 1.\tWrite a Python Program to find sum of array?\n",
        "A = [1,2,4,5,6,7,3]\n",
        "sum = 0\n",
        "for i in A:\n",
        "  sum += i\n",
        "print(\"sum is\", sum)"
      ],
      "metadata": {
        "colab": {
          "base_uri": "https://localhost:8080/"
        },
        "id": "0T45njCTXq5P",
        "outputId": "5e92a479-260c-4492-9d8b-61ba2af2f0af"
      },
      "execution_count": null,
      "outputs": [
        {
          "output_type": "stream",
          "name": "stdout",
          "text": [
            "sum is 28\n"
          ]
        }
      ]
    },
    {
      "cell_type": "code",
      "source": [
        "# 2.Write a Python Program to find largest element in an array?\n",
        "A = [1,2,4,5,6,7,3]\n",
        "mx = 0\n",
        "for i in A:\n",
        "  if i>mx:\n",
        "    mx = i\n",
        "print(\"maximun number in array is: \", mx)"
      ],
      "metadata": {
        "colab": {
          "base_uri": "https://localhost:8080/"
        },
        "id": "-tfvm0OYYd7D",
        "outputId": "d13aa9d8-a551-46a4-f45d-85b2c2598d06"
      },
      "execution_count": null,
      "outputs": [
        {
          "output_type": "stream",
          "name": "stdout",
          "text": [
            "maximun number in array is:  7\n"
          ]
        }
      ]
    },
    {
      "cell_type": "code",
      "source": [
        "# 3.\tWrite a Python Program for array rotation?\n",
        "arr = eval(input(\"Enter the Array: \"))\n",
        "print(f\"The Reverse of Array {arr} is {arr[::-1]}\") "
      ],
      "metadata": {
        "id": "W4y0og2ZZNIe",
        "colab": {
          "base_uri": "https://localhost:8080/"
        },
        "outputId": "f35c33a5-5ce0-44a6-a132-0b34c28fa4ef"
      },
      "execution_count": 1,
      "outputs": [
        {
          "output_type": "stream",
          "name": "stdout",
          "text": [
            "Enter the Array: 1,2,3,4,5,6,7,8\n",
            "The Reverse of Array (1, 2, 3, 4, 5, 6, 7, 8) is (8, 7, 6, 5, 4, 3, 2, 1)\n"
          ]
        }
      ]
    },
    {
      "cell_type": "code",
      "source": [
        "# 4.\tWrite a Python Program to Split the array and add the first part to the end?\n",
        "arr = eval(input(\"Enter the Array: \"))\n",
        "print(f\"The Sum of First and Last Elements of Array {arr} is {arr[0]+arr[-1]}\")"
      ],
      "metadata": {
        "id": "pgfBkCTDZZe9",
        "colab": {
          "base_uri": "https://localhost:8080/"
        },
        "outputId": "b97b28b2-9375-426c-d9b1-d407d6e41890"
      },
      "execution_count": 2,
      "outputs": [
        {
          "output_type": "stream",
          "name": "stdout",
          "text": [
            "Enter the Array: 1,2,3,4,5,6,7,8\n",
            "The Sum of First and Last Elements of Array (1, 2, 3, 4, 5, 6, 7, 8) is 9\n"
          ]
        }
      ]
    },
    {
      "cell_type": "code",
      "source": [
        "# 5.\tWrite a Python Program to check if given array is Monotonic?\n",
        "A = [1,2,3,4,5,4,3,2,1]\n",
        "len(A)\n",
        "for i in range(len(A)):\n",
        "  if A[i] != A[len(A)-1-i]:\n",
        "    print(\"Not Monotonic\")\n",
        "    break\n",
        "else:\n",
        "    print(\"monotonic\")"
      ],
      "metadata": {
        "colab": {
          "base_uri": "https://localhost:8080/"
        },
        "id": "X6aZmGZ6Zyxn",
        "outputId": "a204611a-5ba7-4e2e-dc1f-4149716e467b"
      },
      "execution_count": null,
      "outputs": [
        {
          "output_type": "stream",
          "name": "stdout",
          "text": [
            "monotonic\n"
          ]
        }
      ]
    },
    {
      "cell_type": "code",
      "source": [],
      "metadata": {
        "id": "otDbfn4ibir7"
      },
      "execution_count": null,
      "outputs": []
    }
  ]
}