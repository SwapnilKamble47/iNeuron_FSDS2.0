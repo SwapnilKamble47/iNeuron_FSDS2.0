{
  "nbformat": 4,
  "nbformat_minor": 0,
  "metadata": {
    "colab": {
      "provenance": []
    },
    "kernelspec": {
      "name": "python3",
      "display_name": "Python 3"
    },
    "language_info": {
      "name": "python"
    }
  },
  "cells": [
    {
      "cell_type": "code",
      "execution_count": null,
      "metadata": {
        "colab": {
          "base_uri": "https://localhost:8080/"
        },
        "id": "ZANFThFKaz-v",
        "outputId": "e4f08487-432c-47a4-949e-49dde1526cf4"
      },
      "outputs": [
        {
          "output_type": "stream",
          "name": "stdout",
          "text": [
            "Enter numner to check divisible by 5 & 7 from 0 to Entered Number range: 1000\n",
            "0,35,70,105,140,175,210,245,280,315,350,385,420,455,490,525,560,595,630,665,700,735,770,805,840,875,910,945,980,"
          ]
        }
      ],
      "source": [
        "\"\"\"Question 1:\n",
        "Please write a program using generator to print the numbers which can\n",
        "be divisible by 5 and 7 between 0 and n in comma separated form while n is input by console.\n",
        "\"\"\"\n",
        "n = int(input(\"Enter numner to check divisible by 5 & 7 from 0 to Entered Number range: \"))\n",
        "for i in range (0,n+1):\n",
        "  if i%5 == 0 and i%7 == 0:\n",
        "    print(i, end = ',')"
      ]
    },
    {
      "cell_type": "code",
      "source": [
        "\"\"\"Question 2:\n",
        "Please write a program using generator to print the even numbers between 0 and n in comma separated form while n is input by console.\n",
        "Example:\n",
        "If the following n is given as input to the program:\n",
        "10\n",
        "Then, the output of the program should be:\n",
        "0,2,4,6,8,10 \"\"\"\n",
        "n = int(input(\"Enter numner to check deven numbers between 0 and to Entered Number range: \"))\n",
        "for i in range (0,n+1):\n",
        "  if i<(n) and i%2 == 0:\n",
        "    print(i, end = ',')\n",
        "  if i == (n) and i%2 ==0 :\n",
        "      print(i)"
      ],
      "metadata": {
        "colab": {
          "base_uri": "https://localhost:8080/"
        },
        "id": "MFe6BSxxb78_",
        "outputId": "b1b980c2-54b9-4a1d-b0cd-03f41adbf5ba"
      },
      "execution_count": null,
      "outputs": [
        {
          "output_type": "stream",
          "name": "stdout",
          "text": [
            "Enter numner to check deven numbers between 0 and to Entered Number range: 10\n",
            "0,2,4,6,8,10\n"
          ]
        }
      ]
    },
    {
      "cell_type": "code",
      "source": [
        "\"\"\"Question 3:\n",
        "The Fibonacci Sequence is computed based on the following formula:\n",
        "f(n)=0 if n=0\n",
        "f(n)=1 if n=1\n",
        "f(n)=f(n-1)+f(n-2) if n>1\n",
        "Please write a program using list comprehension to print the Fibonacci Sequence in comma separated form with a given n input by console.\n",
        "Example:\n",
        "If the following n is given as input to the program:\n",
        "7\n",
        "\n",
        "Then, the output of the program should be:\n",
        "0,1,1,2,3,5,8,13\"\"\"\n",
        "n = int(input(\"Enter Number to check fionacchi sequence: \"))\n",
        "if n == 0:\n",
        "  seq = [0]\n",
        "  print(\"Sequence is: \", seq)\n",
        "if n == 1:\n",
        "  seq = [0,1]\n",
        "  print(\"Sequence is: \", seq)\n",
        "if n > 1:\n",
        "  seq = [0,1]\n",
        "  for i in range(1,n):\n",
        "    sum = seq[i] + seq[i-1]\n",
        "    seq.append(sum)\n",
        "print(seq)"
      ],
      "metadata": {
        "colab": {
          "base_uri": "https://localhost:8080/"
        },
        "id": "aFdipfTGd85T",
        "outputId": "43c42cb3-0950-4b1c-fb63-27a81b99c1d5"
      },
      "execution_count": null,
      "outputs": [
        {
          "output_type": "stream",
          "name": "stdout",
          "text": [
            "Enter Number to check fionacchi sequence: 7\n",
            "[0, 1, 1, 2, 3, 5, 8, 13]\n"
          ]
        }
      ]
    },
    {
      "cell_type": "code",
      "source": [
        "\"\"\"Question 4:\n",
        "Assuming that we have some email addresses in the \"username@companyname.com\" format,\n",
        "please write program to print the user name of a given email address. Both user names and company names are composed of letters only.\n",
        "Example:\n",
        "If the following email address is given as input to the program:\n",
        "john@google.com\n",
        "Then, the output of the program should be:\n",
        "john\"\"\"\n",
        "text = \"john@google.com\"\n",
        "for i in text:\n",
        "  if i == \"@\":\n",
        "    break\n",
        "  print(i,end = '')"
      ],
      "metadata": {
        "colab": {
          "base_uri": "https://localhost:8080/"
        },
        "id": "5IVQE-YNgpo2",
        "outputId": "b1cc061a-ecee-44ed-f69f-956b48456301"
      },
      "execution_count": null,
      "outputs": [
        {
          "output_type": "stream",
          "name": "stdout",
          "text": [
            "john"
          ]
        }
      ]
    },
    {
      "cell_type": "code",
      "source": [
        "\"\"\"Question 5:\n",
        "Define a class named Shape and its subclass Square.\n",
        "The Square class has an init function which takes a length as argument.\n",
        "Both classes have a area function which can print the area of the shape where Shape's area is 0 by default.\"\"\""
      ],
      "metadata": {
        "id": "9ebZru3FhpV-"
      },
      "execution_count": null,
      "outputs": []
    },
    {
      "cell_type": "code",
      "source": [
        "class Shape:\n",
        "    def area(self):\n",
        "        return 0\n",
        "\n",
        "class Square(Shape):\n",
        "    def __init__(self, length):\n",
        "        self.length = length\n",
        "    def area(self):\n",
        "        return self.length*self.length\n",
        "\n",
        "square = Square(50)\n",
        "print(square.area())"
      ],
      "metadata": {
        "colab": {
          "base_uri": "https://localhost:8080/"
        },
        "id": "PQTAa6Lhu4Wk",
        "outputId": "1cf177e5-8bfe-425a-96c5-08e16d5cf930"
      },
      "execution_count": 1,
      "outputs": [
        {
          "output_type": "stream",
          "name": "stdout",
          "text": [
            "2500\n"
          ]
        }
      ]
    },
    {
      "cell_type": "code",
      "source": [],
      "metadata": {
        "id": "fcxKjlF2vMCb"
      },
      "execution_count": null,
      "outputs": []
    }
  ]
}