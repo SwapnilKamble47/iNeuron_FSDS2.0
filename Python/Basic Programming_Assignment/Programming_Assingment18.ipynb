{
  "nbformat": 4,
  "nbformat_minor": 0,
  "metadata": {
    "colab": {
      "provenance": []
    },
    "kernelspec": {
      "name": "python3",
      "display_name": "Python 3"
    },
    "language_info": {
      "name": "python"
    }
  },
  "cells": [
    {
      "cell_type": "code",
      "execution_count": 2,
      "metadata": {
        "colab": {
          "base_uri": "https://localhost:8080/"
        },
        "id": "9yxGfxiMHHR-",
        "outputId": "e77d0665-7eab-4f3d-d043-f478dcc75443"
      },
      "outputs": [
        {
          "output_type": "stream",
          "name": "stdout",
          "text": [
            "[1, 2, 'a', 'b'] ➞ [1, 2] \n",
            "[1, 'a', 'b', 0, 15] ➞ [1, 0, 15] \n",
            "[1, 2, 'aasf', '1', '123', 123] ➞ [1, 2, 123] \n"
          ]
        }
      ],
      "source": [
        "\"\"\"Question 1\n",
        "Create a function that takes a list of non-negative integers and strings and return a new list without the strings.\n",
        "Examples\n",
        "filter_list([1, 2, \"a\", \"b\"]) ➞ [1, 2]\n",
        "\n",
        "filter_list([1, \"a\", \"b\", 0, 15]) ➞ [1, 0, 15]\n",
        "\n",
        "filter_list([1, 2, \"aasf\", \"1\", \"123\", 123]) ➞ [1, 2, 123]\"\"\"\n",
        "\n",
        "def filter_list(input_list):\n",
        "  output_list = []\n",
        "  for i in input_list:\n",
        "    if type(i) == int:\n",
        "      output_list.append(i)\n",
        "  return print(f\"{input_list} ➞ {output_list} \") \n",
        "filter_list([1, 2, \"a\", \"b\"])\n",
        "filter_list([1, \"a\", \"b\", 0, 15])\n",
        "filter_list([1, 2, \"aasf\", \"1\", \"123\", 123])"
      ]
    },
    {
      "cell_type": "code",
      "source": [
        "\"\"\"Question 2\n",
        "The \"Reverser\" takes a string as input and returns that string in reverse order, with the opposite case.\n",
        "Examples\n",
        "reverse(\"Hello World\") ➞ \"DLROw OLLEh\"\n",
        "\n",
        "reverse(\"ReVeRsE\") ➞ \"eSrEvEr\"\n",
        "\n",
        "reverse(\"Radar\") ➞ \"RADAr\" \"\"\"\n",
        "def reverse(in_string):\n",
        "    print(f'{in_string} ➞ {in_string[::-1].swapcase()}')\n",
        "    \n",
        "reverse('Hello World')\n",
        "reverse(\"ReVeRsE\")\n",
        "reverse(\"Radar\")"
      ],
      "metadata": {
        "colab": {
          "base_uri": "https://localhost:8080/"
        },
        "id": "-tVfyW8PIdGV",
        "outputId": "8c7865e2-8d88-4d9a-c833-fb4731197b4b"
      },
      "execution_count": 3,
      "outputs": [
        {
          "output_type": "stream",
          "name": "stdout",
          "text": [
            "Hello World ➞ DLROw OLLEh\n",
            "ReVeRsE ➞ eSrEvEr\n",
            "Radar ➞ RADAr\n"
          ]
        }
      ]
    },
    {
      "cell_type": "code",
      "source": [
        "'''Question 3\n",
        "You can assign variables from lists like this:\n",
        "lst = [1, 2, 3, 4, 5, 6]\n",
        "first = lst[0]\n",
        "middle = lst[1:-1]\n",
        "last = lst[-1]\n",
        "\n",
        "print(first) ➞ outputs 1\n",
        "print(middle) ➞ outputs [2, 3, 4, 5]\n",
        "print(last) ➞ outputs 6\n",
        "With Python 3, you can assign variables from lists in a much more succinct way. \n",
        "Create variables first, middle and last from the given list using destructuring \n",
        "assignment (check the Resources tab for some examples), where:\n",
        "first  ➞ 1\n",
        "\n",
        "middle ➞ [2, 3, 4, 5]\n",
        "\n",
        "last ➞ 6\n",
        "Your task is to unpack the list writeyourcodehere into three variables, being first, \n",
        "middle, and last, with middle being everything in between the first and last element. \n",
        "Then print all three variables.'''\n",
        "\n",
        "first, *middle, last = [1,2,3,4,5,6]\n",
        "print(f'first ➞ {first}')\n",
        "print(f'middle ➞ {middle}')\n",
        "print(f'last ➞ {last}')"
      ],
      "metadata": {
        "colab": {
          "base_uri": "https://localhost:8080/"
        },
        "id": "iqYbPChfyLI5",
        "outputId": "0936f3b5-2009-48a7-9cae-bf081cd2bf75"
      },
      "execution_count": 2,
      "outputs": [
        {
          "output_type": "stream",
          "name": "stdout",
          "text": [
            "first ➞ 1\n",
            "middle ➞ [2, 3, 4, 5]\n",
            "last ➞ 6\n"
          ]
        }
      ]
    },
    {
      "cell_type": "code",
      "source": [
        "\"\"\"Question 4\n",
        "Write a function that calculates the factorial of a number recursively.\n",
        "Examples\n",
        "factorial(5) ➞ 120\n",
        "\n",
        "factorial(3) ➞ 6\n",
        "\n",
        "factorial(1) ➞ 1\n",
        "\n",
        "factorial(0) ➞ 1\"\"\"\n",
        "\n",
        "def factorial(n):\n",
        "    if n==0:\n",
        "        return 1\n",
        "    return n * factorial(n-1)\n",
        "\n",
        "print(f'factorial(5) ➞ {factorial(5)}')\n",
        "print(f'factorial(3) ➞ {factorial(3)}')\n",
        "print(f'factorial(1) ➞ {factorial(1)}')\n",
        "print(f'factorial(0) ➞ {factorial(0)}')"
      ],
      "metadata": {
        "colab": {
          "base_uri": "https://localhost:8080/"
        },
        "id": "4bF8P1W6JyzY",
        "outputId": "b189c435-6b08-4856-fae8-3f430d41d735"
      },
      "execution_count": 1,
      "outputs": [
        {
          "output_type": "stream",
          "name": "stdout",
          "text": [
            "factorial(5) ➞ 120\n",
            "factorial(3) ➞ 6\n",
            "factorial(1) ➞ 1\n",
            "factorial(0) ➞ 1\n"
          ]
        }
      ]
    },
    {
      "cell_type": "code",
      "source": [
        "\"\"\"Question 5\n",
        "Write a function that moves all elements of one type to the end of the list.\n",
        "Examples\n",
        "move_to_end([1, 3, 2, 4, 4, 1], 1) ➞ [3, 2, 4, 4, 1, 1]\n",
        "# Move all the 1s to the end of the array.\n",
        "\n",
        "move_to_end([7, 8, 9, 1, 2, 3, 4], 9) ➞ [7, 8, 1, 2, 3, 4, 9]\n",
        "\n",
        "move_to_end([\"a\", \"a\", \"a\", \"b\"], \"a\") ➞ [\"b\", \"a\", \"a\", \"a\"]\"\"\"\n",
        "\n",
        "def move_to_end(list,num):\n",
        "  first = []\n",
        "  second = []\n",
        "  for i in list:\n",
        "    if i == num :\n",
        "      second.append(i)\n",
        "    else:\n",
        "      first.append(i)\n",
        "  first.extend(second)\n",
        "  return print(f\"{list,num} ➞ {first}\")\n",
        "\n",
        "move_to_end([1, 3, 2, 4, 4, 1], 1) # ➞ [3, 2, 4, 4, 1, 1]\n",
        "\n",
        "move_to_end([7, 8, 9, 1, 2, 3, 4], 9) # ➞ [7, 8, 1, 2, 3, 4, 9]\n",
        "\n",
        "move_to_end([\"a\", \"a\", \"a\", \"b\"], \"a\") # ➞ [\"b\", \"a\", \"a\", \"a\"]\"\"\""
      ],
      "metadata": {
        "colab": {
          "base_uri": "https://localhost:8080/"
        },
        "id": "Q7RIoSO0zQS9",
        "outputId": "25fe49ae-706b-4841-eb04-a6d113328fe3"
      },
      "execution_count": 19,
      "outputs": [
        {
          "output_type": "stream",
          "name": "stdout",
          "text": [
            "([1, 3, 2, 4, 4, 1], 1) ➞ [3, 2, 4, 4, 1, 1]\n",
            "([7, 8, 9, 1, 2, 3, 4], 9) ➞ [7, 8, 1, 2, 3, 4, 9]\n",
            "(['a', 'a', 'a', 'b'], 'a') ➞ ['b', 'a', 'a', 'a']\n"
          ]
        }
      ]
    },
    {
      "cell_type": "code",
      "source": [],
      "metadata": {
        "id": "y9xVZrmn0KPq"
      },
      "execution_count": null,
      "outputs": []
    }
  ]
}