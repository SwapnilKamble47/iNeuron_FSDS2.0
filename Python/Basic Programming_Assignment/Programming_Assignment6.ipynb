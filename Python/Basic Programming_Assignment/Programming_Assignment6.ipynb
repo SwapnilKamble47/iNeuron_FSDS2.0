{
  "nbformat": 4,
  "nbformat_minor": 0,
  "metadata": {
    "colab": {
      "provenance": []
    },
    "kernelspec": {
      "name": "python3",
      "display_name": "Python 3"
    },
    "language_info": {
      "name": "python"
    }
  },
  "cells": [
    {
      "cell_type": "code",
      "source": [
        "# 1.\tWrite a Python Program to Display Fibonacci Sequence Using Recursion?\n",
        "def genFibonacci(n,a,b):\n",
        "    if n == 0:\n",
        "        return 1\n",
        "    else:\n",
        "        result = a+b\n",
        "        print(result, end=', ')\n",
        "        genFibonacci(n-1,b,result)\n",
        "in_num = int(input('Enter the length of Series: '))\n",
        "print('0, 1',end=', ')\n",
        "genFibonacci(in_num,1,2)\n"
      ],
      "metadata": {
        "id": "LXh6fvVvH65O",
        "colab": {
          "base_uri": "https://localhost:8080/"
        },
        "outputId": "a0f7d9ff-d92e-40e7-d3da-5850307eb87f"
      },
      "execution_count": 1,
      "outputs": [
        {
          "output_type": "stream",
          "name": "stdout",
          "text": [
            "Enter the length of Series: 7\n",
            "0, 1, 3, 5, 8, 13, 21, 34, 55, "
          ]
        }
      ]
    },
    {
      "cell_type": "code",
      "source": [
        "# 2.\tWrite a Python Program to Find Factorial of Number Using Recursion?\n",
        "def factorial(num):\n",
        "    if (num < 1):\n",
        "        return 1\n",
        "    else:\n",
        "        return num*factorial(num-1)\n",
        "num = int(input('Enter a number: '))\n",
        "value = factorial(num)\n",
        "print(f'The Factorial of {num} is {value}')"
      ],
      "metadata": {
        "id": "q453uZzgRExG",
        "colab": {
          "base_uri": "https://localhost:8080/"
        },
        "outputId": "05447ad5-2e43-47f9-8c97-a25517b9fb3e"
      },
      "execution_count": 2,
      "outputs": [
        {
          "output_type": "stream",
          "name": "stdout",
          "text": [
            "Enter a number: 5\n",
            "The Factorial of 5 is 120\n"
          ]
        }
      ]
    },
    {
      "cell_type": "code",
      "source": [
        "# 3.\tWrite a Python Program to calculate your Body Mass Index?\n",
        "# Formula: weight (kg) / [height (m)]2\n",
        "weight = int(input(\"Enter Weight in KG: \"))\n",
        "height = int(input(\"Enter Weight in cm: \"))\n",
        "bmi = weight / ((height/100)**2)\n",
        "bmi\n"
      ],
      "metadata": {
        "colab": {
          "base_uri": "https://localhost:8080/"
        },
        "id": "TPItvSYIRMnv",
        "outputId": "8f553f66-411d-4a94-a258-e431bd3b8731"
      },
      "execution_count": null,
      "outputs": [
        {
          "name": "stdout",
          "output_type": "stream",
          "text": [
            "Enter Weight in KG: 64\n",
            "Enter Weight in cm: 173\n"
          ]
        },
        {
          "output_type": "execute_result",
          "data": {
            "text/plain": [
              "21.383941996057334"
            ]
          },
          "metadata": {},
          "execution_count": 5
        }
      ]
    },
    {
      "cell_type": "code",
      "source": [
        "# 4.\tWrite a Python Program to calculate the natural logarithm of any number?\n",
        "import math\n",
        "A = int(input(\"Enter Value to chech log  :  \"))\n",
        "print(math.log(A))"
      ],
      "metadata": {
        "colab": {
          "base_uri": "https://localhost:8080/"
        },
        "id": "-IeJ_-3hR2jP",
        "outputId": "b8a10de8-2714-4a79-fdf7-0a09e97a9d63"
      },
      "execution_count": null,
      "outputs": [
        {
          "output_type": "stream",
          "name": "stdout",
          "text": [
            "Enter Value to chech log  :  5\n",
            "1.6094379124341003\n"
          ]
        }
      ]
    },
    {
      "cell_type": "code",
      "source": [
        "# 5.\tWrite a Python Program for cube sum of first n natural numbers?\n",
        "A = 5\n",
        "B = 0\n",
        "for i in range(1,A+1):\n",
        "  B += i**3\n",
        "  #print(B)\n",
        "print(B)\n"
      ],
      "metadata": {
        "colab": {
          "base_uri": "https://localhost:8080/"
        },
        "id": "yh91fTSJR4el",
        "outputId": "97395e00-77b0-474a-a02e-8c987fa42367"
      },
      "execution_count": null,
      "outputs": [
        {
          "output_type": "stream",
          "name": "stdout",
          "text": [
            "225\n"
          ]
        }
      ]
    },
    {
      "cell_type": "code",
      "source": [
        "2**3"
      ],
      "metadata": {
        "colab": {
          "base_uri": "https://localhost:8080/"
        },
        "id": "FeOG4zl9WLNr",
        "outputId": "aeb99d49-5f9c-4cc4-8dc9-8c45b9a78b38"
      },
      "execution_count": null,
      "outputs": [
        {
          "output_type": "execute_result",
          "data": {
            "text/plain": [
              "8"
            ]
          },
          "metadata": {},
          "execution_count": 13
        }
      ]
    },
    {
      "cell_type": "code",
      "source": [],
      "metadata": {
        "id": "DYOPqs4FXG2I"
      },
      "execution_count": null,
      "outputs": []
    }
  ]
}