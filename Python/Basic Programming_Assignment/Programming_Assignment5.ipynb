{
  "nbformat": 4,
  "nbformat_minor": 0,
  "metadata": {
    "colab": {
      "provenance": []
    },
    "kernelspec": {
      "name": "python3",
      "display_name": "Python 3"
    },
    "language_info": {
      "name": "python"
    }
  },
  "cells": [
    {
      "cell_type": "code",
      "source": [
        "# 1.\tWrite a Python Program to Find LCM?\n",
        "# Option 1\n",
        "A, B = 24 , 36\n",
        "A1, B1 = A,B\n",
        "i = 2\n",
        "LCM = 1\n",
        "while i <= A1 or  i <= B1:\n",
        "  if A1%i == 0 or B1%i == 0:\n",
        "    if A1%i == 0:\n",
        "     A1 = A1//i\n",
        "     #print(\"A1 is: \", A1)\n",
        "    if B1%i == 0:\n",
        "     B1 = B1//i\n",
        "     #print(\"B1 is: \", B1)\n",
        "    if True :\n",
        "      LCM *= i\n",
        "      #print(\"LCM is : \", LCM)\n",
        "      i = 2\n",
        "  else:\n",
        "     i += 1\n",
        "print(\"LCM is : \", LCM)"
      ],
      "metadata": {
        "colab": {
          "base_uri": "https://localhost:8080/"
        },
        "id": "I9d0vTNri9C8",
        "outputId": "60f26fdc-dae8-43eb-e544-247b737b7172"
      },
      "execution_count": null,
      "outputs": [
        {
          "output_type": "stream",
          "name": "stdout",
          "text": [
            "LCM is :  72\n"
          ]
        }
      ]
    },
    {
      "cell_type": "code",
      "source": [
        "# 1.\tWrite a Python Program to Find LCM?\n",
        "# Option 2\n",
        "A, B = 24 , 36\n",
        "if A > B:\n",
        "  greater = A\n",
        "else:\n",
        "  greater = B\n",
        "while True:\n",
        "  if (greater%A == 0) and (greater%B==0):\n",
        "    LCM = greater\n",
        "    break\n",
        "  else:\n",
        "    greater += greater\n",
        "print(\"LCM is: \", LCM)\n"
      ],
      "metadata": {
        "colab": {
          "base_uri": "https://localhost:8080/"
        },
        "id": "sc-b4E7kz1qq",
        "outputId": "4159c812-7883-479e-9648-f3e34e869984"
      },
      "execution_count": null,
      "outputs": [
        {
          "output_type": "stream",
          "name": "stdout",
          "text": [
            "LCM is:  72\n"
          ]
        }
      ]
    },
    {
      "cell_type": "code",
      "source": [
        "# 2.\tWrite a Python Program to Find HCF?\n",
        "A = 8\n",
        "B = 12\n",
        "if A<B:\n",
        "  smaller = A\n",
        "else:\n",
        "  smaller = B\n",
        "for i in range(1,smaller+1):\n",
        "  if (A%i==0) and (B%i==0):\n",
        "    HCF = i\n",
        "print(f\"HCF is :  {HCF}\")"
      ],
      "metadata": {
        "colab": {
          "base_uri": "https://localhost:8080/"
        },
        "id": "S5bQYdfnsXrn",
        "outputId": "4dbb9646-109f-4449-aa28-f63821bbedc4"
      },
      "execution_count": null,
      "outputs": [
        {
          "output_type": "stream",
          "name": "stdout",
          "text": [
            "HCF is :  4\n"
          ]
        }
      ]
    },
    {
      "cell_type": "code",
      "source": [
        "# 3.\tWrite a Python Program to Convert Decimal to Binary, Octal and Hexadecimal?\n",
        "# Answer is Pending\n",
        "\n",
        "num = int(input('Enter a Number: '))\n",
        "print(f'Binary Number -> {bin(num)}')\n",
        "print(f'Octal Number -> {oct(num)}')    \n",
        "print(f'Hexadecimal Number -> {hex(num)}')    "
      ],
      "metadata": {
        "colab": {
          "base_uri": "https://localhost:8080/"
        },
        "id": "4A928E0s4U9k",
        "outputId": "eb1d0896-6463-48cc-9f96-2446d2014a82"
      },
      "execution_count": 2,
      "outputs": [
        {
          "output_type": "stream",
          "name": "stdout",
          "text": [
            "Enter a Number: 5\n",
            "Binary Number -> 0b101\n",
            "Octal Number -> 0o5\n",
            "Hexadecimal Number -> 0x5\n"
          ]
        }
      ]
    },
    {
      "cell_type": "code",
      "source": [
        "# 4.\tWrite a Python Program To Find ASCII value of a character?\n",
        "A = input(\"Enter Character to find it's Ascii Value: \")\n",
        "print(f\"ASCII VAlue of {A} is : {ord(A)}\")"
      ],
      "metadata": {
        "colab": {
          "base_uri": "https://localhost:8080/"
        },
        "id": "U8L0mtFs688P",
        "outputId": "4af1028f-c74d-4771-82d9-a7413dc85b7a"
      },
      "execution_count": null,
      "outputs": [
        {
          "output_type": "stream",
          "name": "stdout",
          "text": [
            "Enter Character to find it's Ascii Value: D\n",
            "ASCII VAlue of D is : 68\n"
          ]
        }
      ]
    },
    {
      "cell_type": "code",
      "source": [
        "# 5.\tWrite a Python Program to Make a Simple Calculator with 4 basic mathematical operations?\n",
        "\"\"\"\n",
        "1. Add\n",
        "2. Subtract\n",
        "3. Multiply\n",
        "4. Divide \"\"\"\n",
        "\n",
        "select = int(input(\"Please select which operation to perform:\\n1. Add\\n2. Subtract\\n3. Multiply\\n4.Divide:\\n\"))\n",
        "A = int(input(\"Enter 1st Nubber:\"))\n",
        "B = int(input(\"Enter 2nd Nubber:\"))\n",
        "if select <= 4:\n",
        "  if select == 1:\n",
        "    print(f\"Addition is : {A+B}\")\n",
        "  if select == 2:\n",
        "    print(f\"Substraction is : {A-B}\")\n",
        "  if select == 3:\n",
        "    print(f\"Multiplication is : {A*B}\")\n",
        "  if select == 4:\n",
        "    print(f\"Division is : {A//B}\")\n",
        "else:\n",
        "   print(\"Please Slect operation from given list\")\n"
      ],
      "metadata": {
        "colab": {
          "base_uri": "https://localhost:8080/"
        },
        "id": "lzrFTug-BmT4",
        "outputId": "4b5ea15c-a307-4127-c773-a734ad56cb3b"
      },
      "execution_count": null,
      "outputs": [
        {
          "output_type": "stream",
          "name": "stdout",
          "text": [
            "Please select which operation to perform:\n",
            "1. Add\n",
            "2. Subtract\n",
            "3. Multiply\n",
            "4.Divide:\n",
            "1\n",
            "Enter 1st Nubber:1\n",
            "Enter 2nd Nubber:2\n",
            "Addition is : 3\n"
          ]
        }
      ]
    },
    {
      "cell_type": "code",
      "source": [],
      "metadata": {
        "id": "fSNZDd3xDPTj"
      },
      "execution_count": null,
      "outputs": []
    }
  ]
}